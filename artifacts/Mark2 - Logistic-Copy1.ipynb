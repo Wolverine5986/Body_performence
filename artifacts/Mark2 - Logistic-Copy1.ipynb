{
 "cells": [
  {
   "cell_type": "code",
   "execution_count": 2,
   "id": "2a44adea",
   "metadata": {},
   "outputs": [],
   "source": [
    "import pandas as pd\n",
    "import numpy as np\n",
    "import matplotlib.pyplot as plt\n",
    "import seaborn as sns\n",
    "\n",
    "from sklearn.feature_selection import mutual_info_classif\n",
    "from sklearn.preprocessing import OneHotEncoder,MinMaxScaler,StandardScaler\n",
    "from sklearn.model_selection import train_test_split, GridSearchCV,RandomizedSearchCV\n",
    "from sklearn.linear_model import LogisticRegression\n",
    "from sklearn.metrics import confusion_matrix, accuracy_score, classification_report,ConfusionMatrixDisplay"
   ]
  },
  {
   "cell_type": "code",
   "execution_count": 3,
   "id": "0a675914",
   "metadata": {},
   "outputs": [
    {
     "data": {
      "text/html": [
       "<div>\n",
       "<style scoped>\n",
       "    .dataframe tbody tr th:only-of-type {\n",
       "        vertical-align: middle;\n",
       "    }\n",
       "\n",
       "    .dataframe tbody tr th {\n",
       "        vertical-align: top;\n",
       "    }\n",
       "\n",
       "    .dataframe thead th {\n",
       "        text-align: right;\n",
       "    }\n",
       "</style>\n",
       "<table border=\"1\" class=\"dataframe\">\n",
       "  <thead>\n",
       "    <tr style=\"text-align: right;\">\n",
       "      <th></th>\n",
       "      <th>age</th>\n",
       "      <th>gender</th>\n",
       "      <th>height_cm</th>\n",
       "      <th>weight_kg</th>\n",
       "      <th>body fat_%</th>\n",
       "      <th>diastolic</th>\n",
       "      <th>systolic</th>\n",
       "      <th>gripForce</th>\n",
       "      <th>sit and bend forward_cm</th>\n",
       "      <th>sit-ups counts</th>\n",
       "      <th>broad jump_cm</th>\n",
       "      <th>class</th>\n",
       "    </tr>\n",
       "  </thead>\n",
       "  <tbody>\n",
       "    <tr>\n",
       "      <th>0</th>\n",
       "      <td>27.0</td>\n",
       "      <td>M</td>\n",
       "      <td>172.3</td>\n",
       "      <td>75.24</td>\n",
       "      <td>21.3</td>\n",
       "      <td>80.0</td>\n",
       "      <td>130.0</td>\n",
       "      <td>54.9</td>\n",
       "      <td>18.4</td>\n",
       "      <td>60.0</td>\n",
       "      <td>217.0</td>\n",
       "      <td>C</td>\n",
       "    </tr>\n",
       "    <tr>\n",
       "      <th>1</th>\n",
       "      <td>25.0</td>\n",
       "      <td>M</td>\n",
       "      <td>165.0</td>\n",
       "      <td>55.80</td>\n",
       "      <td>15.7</td>\n",
       "      <td>77.0</td>\n",
       "      <td>126.0</td>\n",
       "      <td>36.4</td>\n",
       "      <td>16.3</td>\n",
       "      <td>53.0</td>\n",
       "      <td>229.0</td>\n",
       "      <td>A</td>\n",
       "    </tr>\n",
       "    <tr>\n",
       "      <th>2</th>\n",
       "      <td>31.0</td>\n",
       "      <td>M</td>\n",
       "      <td>179.6</td>\n",
       "      <td>78.00</td>\n",
       "      <td>20.1</td>\n",
       "      <td>92.0</td>\n",
       "      <td>152.0</td>\n",
       "      <td>44.8</td>\n",
       "      <td>12.0</td>\n",
       "      <td>49.0</td>\n",
       "      <td>181.0</td>\n",
       "      <td>C</td>\n",
       "    </tr>\n",
       "    <tr>\n",
       "      <th>3</th>\n",
       "      <td>32.0</td>\n",
       "      <td>M</td>\n",
       "      <td>174.5</td>\n",
       "      <td>71.10</td>\n",
       "      <td>18.4</td>\n",
       "      <td>76.0</td>\n",
       "      <td>147.0</td>\n",
       "      <td>41.4</td>\n",
       "      <td>15.2</td>\n",
       "      <td>53.0</td>\n",
       "      <td>219.0</td>\n",
       "      <td>B</td>\n",
       "    </tr>\n",
       "    <tr>\n",
       "      <th>4</th>\n",
       "      <td>28.0</td>\n",
       "      <td>M</td>\n",
       "      <td>173.8</td>\n",
       "      <td>67.70</td>\n",
       "      <td>17.1</td>\n",
       "      <td>70.0</td>\n",
       "      <td>127.0</td>\n",
       "      <td>43.5</td>\n",
       "      <td>27.1</td>\n",
       "      <td>45.0</td>\n",
       "      <td>217.0</td>\n",
       "      <td>B</td>\n",
       "    </tr>\n",
       "  </tbody>\n",
       "</table>\n",
       "</div>"
      ],
      "text/plain": [
       "    age gender  height_cm  weight_kg  body fat_%  diastolic  systolic  \\\n",
       "0  27.0      M      172.3      75.24        21.3       80.0     130.0   \n",
       "1  25.0      M      165.0      55.80        15.7       77.0     126.0   \n",
       "2  31.0      M      179.6      78.00        20.1       92.0     152.0   \n",
       "3  32.0      M      174.5      71.10        18.4       76.0     147.0   \n",
       "4  28.0      M      173.8      67.70        17.1       70.0     127.0   \n",
       "\n",
       "   gripForce  sit and bend forward_cm  sit-ups counts  broad jump_cm class  \n",
       "0       54.9                     18.4            60.0          217.0     C  \n",
       "1       36.4                     16.3            53.0          229.0     A  \n",
       "2       44.8                     12.0            49.0          181.0     C  \n",
       "3       41.4                     15.2            53.0          219.0     B  \n",
       "4       43.5                     27.1            45.0          217.0     B  "
      ]
     },
     "execution_count": 3,
     "metadata": {},
     "output_type": "execute_result"
    }
   ],
   "source": [
    "df = pd.read_csv('bodyPerformance.csv')\n",
    "df.head()"
   ]
  },
  {
   "cell_type": "code",
   "execution_count": 4,
   "id": "c359321c",
   "metadata": {},
   "outputs": [
    {
     "name": "stdout",
     "output_type": "stream",
     "text": [
      "<class 'pandas.core.frame.DataFrame'>\n",
      "RangeIndex: 13393 entries, 0 to 13392\n",
      "Data columns (total 12 columns):\n",
      " #   Column                   Non-Null Count  Dtype  \n",
      "---  ------                   --------------  -----  \n",
      " 0   age                      13393 non-null  float64\n",
      " 1   gender                   13393 non-null  object \n",
      " 2   height_cm                13393 non-null  float64\n",
      " 3   weight_kg                13393 non-null  float64\n",
      " 4   body fat_%               13393 non-null  float64\n",
      " 5   diastolic                13393 non-null  float64\n",
      " 6   systolic                 13393 non-null  float64\n",
      " 7   gripForce                13393 non-null  float64\n",
      " 8   sit and bend forward_cm  13393 non-null  float64\n",
      " 9   sit-ups counts           13393 non-null  float64\n",
      " 10  broad jump_cm            13393 non-null  float64\n",
      " 11  class                    13393 non-null  object \n",
      "dtypes: float64(10), object(2)\n",
      "memory usage: 1.2+ MB\n"
     ]
    }
   ],
   "source": [
    "df.info()"
   ]
  },
  {
   "cell_type": "code",
   "execution_count": 5,
   "id": "4afafec1",
   "metadata": {},
   "outputs": [
    {
     "data": {
      "text/html": [
       "<div>\n",
       "<style scoped>\n",
       "    .dataframe tbody tr th:only-of-type {\n",
       "        vertical-align: middle;\n",
       "    }\n",
       "\n",
       "    .dataframe tbody tr th {\n",
       "        vertical-align: top;\n",
       "    }\n",
       "\n",
       "    .dataframe thead th {\n",
       "        text-align: right;\n",
       "    }\n",
       "</style>\n",
       "<table border=\"1\" class=\"dataframe\">\n",
       "  <thead>\n",
       "    <tr style=\"text-align: right;\">\n",
       "      <th></th>\n",
       "      <th>age</th>\n",
       "      <th>gender</th>\n",
       "      <th>height_cm</th>\n",
       "      <th>weight_kg</th>\n",
       "      <th>body fat_%</th>\n",
       "      <th>diastolic</th>\n",
       "      <th>systolic</th>\n",
       "      <th>gripForce</th>\n",
       "      <th>sit and bend forward_cm</th>\n",
       "      <th>sit-ups counts</th>\n",
       "      <th>broad jump_cm</th>\n",
       "      <th>class</th>\n",
       "    </tr>\n",
       "  </thead>\n",
       "  <tbody>\n",
       "    <tr>\n",
       "      <th>count</th>\n",
       "      <td>13393.000000</td>\n",
       "      <td>13393</td>\n",
       "      <td>13393.000000</td>\n",
       "      <td>13393.000000</td>\n",
       "      <td>13393.000000</td>\n",
       "      <td>13393.000000</td>\n",
       "      <td>13393.000000</td>\n",
       "      <td>13393.000000</td>\n",
       "      <td>13393.000000</td>\n",
       "      <td>13393.000000</td>\n",
       "      <td>13393.000000</td>\n",
       "      <td>13393</td>\n",
       "    </tr>\n",
       "    <tr>\n",
       "      <th>unique</th>\n",
       "      <td>NaN</td>\n",
       "      <td>2</td>\n",
       "      <td>NaN</td>\n",
       "      <td>NaN</td>\n",
       "      <td>NaN</td>\n",
       "      <td>NaN</td>\n",
       "      <td>NaN</td>\n",
       "      <td>NaN</td>\n",
       "      <td>NaN</td>\n",
       "      <td>NaN</td>\n",
       "      <td>NaN</td>\n",
       "      <td>4</td>\n",
       "    </tr>\n",
       "    <tr>\n",
       "      <th>top</th>\n",
       "      <td>NaN</td>\n",
       "      <td>M</td>\n",
       "      <td>NaN</td>\n",
       "      <td>NaN</td>\n",
       "      <td>NaN</td>\n",
       "      <td>NaN</td>\n",
       "      <td>NaN</td>\n",
       "      <td>NaN</td>\n",
       "      <td>NaN</td>\n",
       "      <td>NaN</td>\n",
       "      <td>NaN</td>\n",
       "      <td>C</td>\n",
       "    </tr>\n",
       "    <tr>\n",
       "      <th>freq</th>\n",
       "      <td>NaN</td>\n",
       "      <td>8467</td>\n",
       "      <td>NaN</td>\n",
       "      <td>NaN</td>\n",
       "      <td>NaN</td>\n",
       "      <td>NaN</td>\n",
       "      <td>NaN</td>\n",
       "      <td>NaN</td>\n",
       "      <td>NaN</td>\n",
       "      <td>NaN</td>\n",
       "      <td>NaN</td>\n",
       "      <td>3349</td>\n",
       "    </tr>\n",
       "    <tr>\n",
       "      <th>mean</th>\n",
       "      <td>36.775106</td>\n",
       "      <td>NaN</td>\n",
       "      <td>168.559807</td>\n",
       "      <td>67.447316</td>\n",
       "      <td>23.240165</td>\n",
       "      <td>78.796842</td>\n",
       "      <td>130.234817</td>\n",
       "      <td>36.963877</td>\n",
       "      <td>15.209268</td>\n",
       "      <td>39.771224</td>\n",
       "      <td>190.129627</td>\n",
       "      <td>NaN</td>\n",
       "    </tr>\n",
       "    <tr>\n",
       "      <th>std</th>\n",
       "      <td>13.625639</td>\n",
       "      <td>NaN</td>\n",
       "      <td>8.426583</td>\n",
       "      <td>11.949666</td>\n",
       "      <td>7.256844</td>\n",
       "      <td>10.742033</td>\n",
       "      <td>14.713954</td>\n",
       "      <td>10.624864</td>\n",
       "      <td>8.456677</td>\n",
       "      <td>14.276698</td>\n",
       "      <td>39.868000</td>\n",
       "      <td>NaN</td>\n",
       "    </tr>\n",
       "    <tr>\n",
       "      <th>min</th>\n",
       "      <td>21.000000</td>\n",
       "      <td>NaN</td>\n",
       "      <td>125.000000</td>\n",
       "      <td>26.300000</td>\n",
       "      <td>3.000000</td>\n",
       "      <td>0.000000</td>\n",
       "      <td>0.000000</td>\n",
       "      <td>0.000000</td>\n",
       "      <td>-25.000000</td>\n",
       "      <td>0.000000</td>\n",
       "      <td>0.000000</td>\n",
       "      <td>NaN</td>\n",
       "    </tr>\n",
       "    <tr>\n",
       "      <th>25%</th>\n",
       "      <td>25.000000</td>\n",
       "      <td>NaN</td>\n",
       "      <td>162.400000</td>\n",
       "      <td>58.200000</td>\n",
       "      <td>18.000000</td>\n",
       "      <td>71.000000</td>\n",
       "      <td>120.000000</td>\n",
       "      <td>27.500000</td>\n",
       "      <td>10.900000</td>\n",
       "      <td>30.000000</td>\n",
       "      <td>162.000000</td>\n",
       "      <td>NaN</td>\n",
       "    </tr>\n",
       "    <tr>\n",
       "      <th>50%</th>\n",
       "      <td>32.000000</td>\n",
       "      <td>NaN</td>\n",
       "      <td>169.200000</td>\n",
       "      <td>67.400000</td>\n",
       "      <td>22.800000</td>\n",
       "      <td>79.000000</td>\n",
       "      <td>130.000000</td>\n",
       "      <td>37.900000</td>\n",
       "      <td>16.200000</td>\n",
       "      <td>41.000000</td>\n",
       "      <td>193.000000</td>\n",
       "      <td>NaN</td>\n",
       "    </tr>\n",
       "    <tr>\n",
       "      <th>75%</th>\n",
       "      <td>48.000000</td>\n",
       "      <td>NaN</td>\n",
       "      <td>174.800000</td>\n",
       "      <td>75.300000</td>\n",
       "      <td>28.000000</td>\n",
       "      <td>86.000000</td>\n",
       "      <td>141.000000</td>\n",
       "      <td>45.200000</td>\n",
       "      <td>20.700000</td>\n",
       "      <td>50.000000</td>\n",
       "      <td>221.000000</td>\n",
       "      <td>NaN</td>\n",
       "    </tr>\n",
       "    <tr>\n",
       "      <th>max</th>\n",
       "      <td>64.000000</td>\n",
       "      <td>NaN</td>\n",
       "      <td>193.800000</td>\n",
       "      <td>138.100000</td>\n",
       "      <td>78.400000</td>\n",
       "      <td>156.200000</td>\n",
       "      <td>201.000000</td>\n",
       "      <td>70.500000</td>\n",
       "      <td>213.000000</td>\n",
       "      <td>80.000000</td>\n",
       "      <td>303.000000</td>\n",
       "      <td>NaN</td>\n",
       "    </tr>\n",
       "  </tbody>\n",
       "</table>\n",
       "</div>"
      ],
      "text/plain": [
       "                 age gender     height_cm     weight_kg    body fat_%  \\\n",
       "count   13393.000000  13393  13393.000000  13393.000000  13393.000000   \n",
       "unique           NaN      2           NaN           NaN           NaN   \n",
       "top              NaN      M           NaN           NaN           NaN   \n",
       "freq             NaN   8467           NaN           NaN           NaN   \n",
       "mean       36.775106    NaN    168.559807     67.447316     23.240165   \n",
       "std        13.625639    NaN      8.426583     11.949666      7.256844   \n",
       "min        21.000000    NaN    125.000000     26.300000      3.000000   \n",
       "25%        25.000000    NaN    162.400000     58.200000     18.000000   \n",
       "50%        32.000000    NaN    169.200000     67.400000     22.800000   \n",
       "75%        48.000000    NaN    174.800000     75.300000     28.000000   \n",
       "max        64.000000    NaN    193.800000    138.100000     78.400000   \n",
       "\n",
       "           diastolic      systolic     gripForce  sit and bend forward_cm  \\\n",
       "count   13393.000000  13393.000000  13393.000000             13393.000000   \n",
       "unique           NaN           NaN           NaN                      NaN   \n",
       "top              NaN           NaN           NaN                      NaN   \n",
       "freq             NaN           NaN           NaN                      NaN   \n",
       "mean       78.796842    130.234817     36.963877                15.209268   \n",
       "std        10.742033     14.713954     10.624864                 8.456677   \n",
       "min         0.000000      0.000000      0.000000               -25.000000   \n",
       "25%        71.000000    120.000000     27.500000                10.900000   \n",
       "50%        79.000000    130.000000     37.900000                16.200000   \n",
       "75%        86.000000    141.000000     45.200000                20.700000   \n",
       "max       156.200000    201.000000     70.500000               213.000000   \n",
       "\n",
       "        sit-ups counts  broad jump_cm  class  \n",
       "count     13393.000000   13393.000000  13393  \n",
       "unique             NaN            NaN      4  \n",
       "top                NaN            NaN      C  \n",
       "freq               NaN            NaN   3349  \n",
       "mean         39.771224     190.129627    NaN  \n",
       "std          14.276698      39.868000    NaN  \n",
       "min           0.000000       0.000000    NaN  \n",
       "25%          30.000000     162.000000    NaN  \n",
       "50%          41.000000     193.000000    NaN  \n",
       "75%          50.000000     221.000000    NaN  \n",
       "max          80.000000     303.000000    NaN  "
      ]
     },
     "execution_count": 5,
     "metadata": {},
     "output_type": "execute_result"
    }
   ],
   "source": [
    "df.describe(include='all')"
   ]
  },
  {
   "cell_type": "code",
   "execution_count": 6,
   "id": "851d1f74",
   "metadata": {},
   "outputs": [
    {
     "data": {
      "image/png": "[encoded data removed]",
      "text/plain": [
       "<Figure size 1200x800 with 12 Axes>"
      ]
     },
     "metadata": {},
     "output_type": "display_data"
    }
   ],
   "source": [
    "df.hist(bins=50, figsize=(12,8))\n",
    "plt.show()"
   ]
  },
  {
   "cell_type": "code",
   "execution_count": 7,
   "id": "19c4d2c7",
   "metadata": {},
   "outputs": [
    {
     "data": {
      "text/plain": [
       "age                        0\n",
       "gender                     0\n",
       "height_cm                  0\n",
       "weight_kg                  0\n",
       "body fat_%                 0\n",
       "diastolic                  0\n",
       "systolic                   0\n",
       "gripForce                  0\n",
       "sit and bend forward_cm    0\n",
       "sit-ups counts             0\n",
       "broad jump_cm              0\n",
       "class                      0\n",
       "dtype: int64"
      ]
     },
     "execution_count": 7,
     "metadata": {},
     "output_type": "execute_result"
    }
   ],
   "source": [
    "df.isna().sum()"
   ]
  },
  {
   "cell_type": "code",
   "execution_count": 8,
   "id": "9cf3e2c2",
   "metadata": {},
   "outputs": [
    {
     "data": {
      "text/plain": [
       "{'M': 8467, 'F': 4926}"
      ]
     },
     "execution_count": 8,
     "metadata": {},
     "output_type": "execute_result"
    }
   ],
   "source": [
    "df['gender'].value_counts().to_dict()"
   ]
  },
  {
   "cell_type": "code",
   "execution_count": 9,
   "id": "ea54334f",
   "metadata": {},
   "outputs": [],
   "source": [
    "d1 = {'M': 1, 'F': 0}\n",
    "\n",
    "df['gender'].replace(d1,inplace=True)"
   ]
  },
  {
   "cell_type": "code",
   "execution_count": 10,
   "id": "ef6816ea",
   "metadata": {},
   "outputs": [
    {
     "data": {
      "text/plain": [
       "0    1\n",
       "1    1\n",
       "2    1\n",
       "3    1\n",
       "4    1\n",
       "Name: gender, dtype: int64"
      ]
     },
     "execution_count": 10,
     "metadata": {},
     "output_type": "execute_result"
    }
   ],
   "source": [
    "df['gender'][:5]"
   ]
  },
  {
   "cell_type": "code",
   "execution_count": 11,
   "id": "79923b4c",
   "metadata": {},
   "outputs": [
    {
     "data": {
      "text/html": [
       "<div>\n",
       "<style scoped>\n",
       "    .dataframe tbody tr th:only-of-type {\n",
       "        vertical-align: middle;\n",
       "    }\n",
       "\n",
       "    .dataframe tbody tr th {\n",
       "        vertical-align: top;\n",
       "    }\n",
       "\n",
       "    .dataframe thead th {\n",
       "        text-align: right;\n",
       "    }\n",
       "</style>\n",
       "<table border=\"1\" class=\"dataframe\">\n",
       "  <thead>\n",
       "    <tr style=\"text-align: right;\">\n",
       "      <th></th>\n",
       "      <th>age</th>\n",
       "      <th>gender</th>\n",
       "      <th>height_cm</th>\n",
       "      <th>weight_kg</th>\n",
       "      <th>body fat_%</th>\n",
       "      <th>diastolic</th>\n",
       "      <th>systolic</th>\n",
       "      <th>gripForce</th>\n",
       "      <th>sit and bend forward_cm</th>\n",
       "      <th>sit-ups counts</th>\n",
       "      <th>broad jump_cm</th>\n",
       "      <th>class</th>\n",
       "    </tr>\n",
       "  </thead>\n",
       "  <tbody>\n",
       "    <tr>\n",
       "      <th>0</th>\n",
       "      <td>27.0</td>\n",
       "      <td>1</td>\n",
       "      <td>172.3</td>\n",
       "      <td>75.24</td>\n",
       "      <td>21.3</td>\n",
       "      <td>80.0</td>\n",
       "      <td>130.0</td>\n",
       "      <td>54.9</td>\n",
       "      <td>18.4</td>\n",
       "      <td>60.0</td>\n",
       "      <td>217.0</td>\n",
       "      <td>C</td>\n",
       "    </tr>\n",
       "    <tr>\n",
       "      <th>1</th>\n",
       "      <td>25.0</td>\n",
       "      <td>1</td>\n",
       "      <td>165.0</td>\n",
       "      <td>55.80</td>\n",
       "      <td>15.7</td>\n",
       "      <td>77.0</td>\n",
       "      <td>126.0</td>\n",
       "      <td>36.4</td>\n",
       "      <td>16.3</td>\n",
       "      <td>53.0</td>\n",
       "      <td>229.0</td>\n",
       "      <td>A</td>\n",
       "    </tr>\n",
       "    <tr>\n",
       "      <th>2</th>\n",
       "      <td>31.0</td>\n",
       "      <td>1</td>\n",
       "      <td>179.6</td>\n",
       "      <td>78.00</td>\n",
       "      <td>20.1</td>\n",
       "      <td>92.0</td>\n",
       "      <td>152.0</td>\n",
       "      <td>44.8</td>\n",
       "      <td>12.0</td>\n",
       "      <td>49.0</td>\n",
       "      <td>181.0</td>\n",
       "      <td>C</td>\n",
       "    </tr>\n",
       "    <tr>\n",
       "      <th>3</th>\n",
       "      <td>32.0</td>\n",
       "      <td>1</td>\n",
       "      <td>174.5</td>\n",
       "      <td>71.10</td>\n",
       "      <td>18.4</td>\n",
       "      <td>76.0</td>\n",
       "      <td>147.0</td>\n",
       "      <td>41.4</td>\n",
       "      <td>15.2</td>\n",
       "      <td>53.0</td>\n",
       "      <td>219.0</td>\n",
       "      <td>B</td>\n",
       "    </tr>\n",
       "    <tr>\n",
       "      <th>4</th>\n",
       "      <td>28.0</td>\n",
       "      <td>1</td>\n",
       "      <td>173.8</td>\n",
       "      <td>67.70</td>\n",
       "      <td>17.1</td>\n",
       "      <td>70.0</td>\n",
       "      <td>127.0</td>\n",
       "      <td>43.5</td>\n",
       "      <td>27.1</td>\n",
       "      <td>45.0</td>\n",
       "      <td>217.0</td>\n",
       "      <td>B</td>\n",
       "    </tr>\n",
       "  </tbody>\n",
       "</table>\n",
       "</div>"
      ],
      "text/plain": [
       "    age  gender  height_cm  weight_kg  body fat_%  diastolic  systolic  \\\n",
       "0  27.0       1      172.3      75.24        21.3       80.0     130.0   \n",
       "1  25.0       1      165.0      55.80        15.7       77.0     126.0   \n",
       "2  31.0       1      179.6      78.00        20.1       92.0     152.0   \n",
       "3  32.0       1      174.5      71.10        18.4       76.0     147.0   \n",
       "4  28.0       1      173.8      67.70        17.1       70.0     127.0   \n",
       "\n",
       "   gripForce  sit and bend forward_cm  sit-ups counts  broad jump_cm class  \n",
       "0       54.9                     18.4            60.0          217.0     C  \n",
       "1       36.4                     16.3            53.0          229.0     A  \n",
       "2       44.8                     12.0            49.0          181.0     C  \n",
       "3       41.4                     15.2            53.0          219.0     B  \n",
       "4       43.5                     27.1            45.0          217.0     B  "
      ]
     },
     "execution_count": 11,
     "metadata": {},
     "output_type": "execute_result"
    }
   ],
   "source": [
    "df = df.loc[df['class']!='D']\n",
    "df.head()"
   ]
  },
  {
   "cell_type": "code",
   "execution_count": 12,
   "id": "7a1418b4",
   "metadata": {},
   "outputs": [
    {
     "data": {
      "text/plain": [
       "(10044, 12)"
      ]
     },
     "execution_count": 12,
     "metadata": {},
     "output_type": "execute_result"
    }
   ],
   "source": [
    "df.shape"
   ]
  },
  {
   "cell_type": "code",
   "execution_count": 13,
   "id": "8ce82155",
   "metadata": {},
   "outputs": [
    {
     "data": {
      "text/plain": [
       "{'C': 3349, 'A': 3348, 'B': 3347}"
      ]
     },
     "execution_count": 13,
     "metadata": {},
     "output_type": "execute_result"
    }
   ],
   "source": [
    "df['class'].value_counts().to_dict()"
   ]
  },
  {
   "cell_type": "code",
   "execution_count": 14,
   "id": "a70e1821",
   "metadata": {},
   "outputs": [],
   "source": [
    "d2 = {'C': 2, 'A': 0, 'B': 1}\n",
    "df['class'].replace(d2,inplace=True)"
   ]
  },
  {
   "cell_type": "markdown",
   "id": "3f1f2cc9",
   "metadata": {},
   "source": [
    "# Handling outliers"
   ]
  },
  {
   "cell_type": "code",
   "execution_count": 15,
   "id": "d1d7bde2",
   "metadata": {},
   "outputs": [],
   "source": [
    "## Handling Outlier by IQR method\n",
    "\n",
    "def get_outlier_iqr(arr):\n",
    "    outlier = []\n",
    "    q1= np.quantile(arr,0.25)\n",
    "    q2 = np.quantile(arr,0.50)\n",
    "    q3 = np.quantile(arr,0.75)\n",
    "    \n",
    "    IQR = q3 - q1\n",
    "    print(f'{q1=} {q2=} {q3=}')\n",
    "    print(f'IQR : {IQR}')\n",
    "    \n",
    "    lower_tail = q1-1.5*IQR\n",
    "    upper_tail = q3 +1.5*IQR\n",
    "    \n",
    "   \n",
    "    print(f'Lower Tail : {lower_tail}')\n",
    "    print(f'Upper Tail : {upper_tail}')\n",
    "    \n",
    "    for i in arr:\n",
    "        if i > upper_tail or i < lower_tail:\n",
    "            # print(f'Outlier : {i}')\n",
    "            outlier.append(i)\n",
    "            \n",
    "    return outlier,upper_tail, lower_tail\n"
   ]
  },
  {
   "cell_type": "code",
   "execution_count": 16,
   "id": "1502a2e3",
   "metadata": {},
   "outputs": [
    {
     "data": {
      "text/plain": [
       "['age',\n",
       " 'gender',\n",
       " 'height_cm',\n",
       " 'weight_kg',\n",
       " 'body fat_%',\n",
       " 'diastolic',\n",
       " 'systolic',\n",
       " 'gripForce',\n",
       " 'sit and bend forward_cm',\n",
       " 'sit-ups counts',\n",
       " 'broad jump_cm',\n",
       " 'class']"
      ]
     },
     "execution_count": 16,
     "metadata": {},
     "output_type": "execute_result"
    }
   ],
   "source": [
    "df.columns.tolist()"
   ]
  },
  {
   "cell_type": "code",
   "execution_count": 17,
   "id": "65115919",
   "metadata": {},
   "outputs": [],
   "source": [
    "columns_data= [\n",
    " 'height_cm',\n",
    " 'weight_kg',\n",
    " 'body fat_%',\n",
    " 'diastolic',\n",
    " 'systolic',\n",
    " 'gripForce',\n",
    " 'sit and bend forward_cm',\n",
    " 'sit-ups counts',\n",
    " 'broad jump_cm']"
   ]
  },
  {
   "cell_type": "code",
   "execution_count": 18,
   "id": "0bb07169",
   "metadata": {},
   "outputs": [
    {
     "name": "stdout",
     "output_type": "stream",
     "text": [
      "q1=162.5 q2=169.05 q3=174.5\n",
      "IQR : 12.0\n",
      "Lower Tail : 144.5\n",
      "Upper Tail : 192.5\n",
      "q1=57.3 q2=66.2 q3=73.8\n",
      "IQR : 16.5\n",
      "Lower Tail : 32.55\n",
      "Upper Tail : 98.55\n",
      "q1=17.1 q2=21.4 q3=26.0\n",
      "IQR : 8.899999999999999\n",
      "Lower Tail : 3.7500000000000036\n",
      "Upper Tail : 39.349999999999994\n",
      "q1=71.0 q2=79.0 q3=86.0\n",
      "IQR : 15.0\n",
      "Lower Tail : 48.5\n",
      "Upper Tail : 108.5\n",
      "q1=120.0 q2=129.0 q3=140.0\n",
      "IQR : 20.0\n",
      "Lower Tail : 90.0\n",
      "Upper Tail : 170.0\n",
      "q1=28.1 q2=38.9 q3=45.9\n",
      "IQR : 17.799999999999997\n",
      "Lower Tail : 1.4000000000000057\n",
      "Upper Tail : 72.6\n",
      "q1=13.7 q2=17.8 q3=21.7\n",
      "IQR : 8.0\n",
      "Lower Tail : 1.6999999999999993\n",
      "Upper Tail : 33.7\n",
      "q1=35.0 q2=44.0 q3=52.0\n",
      "IQR : 17.0\n",
      "Lower Tail : 9.5\n",
      "Upper Tail : 77.5\n",
      "q1=168.0 q2=198.0 q3=226.0\n",
      "IQR : 58.0\n",
      "Lower Tail : 81.0\n",
      "Upper Tail : 313.0\n"
     ]
    }
   ],
   "source": [
    "for i in columns_data:\n",
    "    o,u,l = get_outlier_iqr(df[i])\n",
    "    df[i].loc[(df[i]>u) |(df[i]<l)] = df[i].median()\n",
    "    \n",
    "    \n",
    "    "
   ]
  },
  {
   "cell_type": "markdown",
   "id": "fc8cdf8f",
   "metadata": {},
   "source": [
    "# Feature Scaling and Trnasfomration"
   ]
  },
  {
   "cell_type": "markdown",
   "id": "40f84b0c",
   "metadata": {},
   "source": [
    "#### MinmaxScalr"
   ]
  },
  {
   "cell_type": "code",
   "execution_count": 19,
   "id": "7114040d",
   "metadata": {},
   "outputs": [],
   "source": [
    "x = df.drop('class',axis=1)\n",
    "y = df['class']"
   ]
  },
  {
   "cell_type": "code",
   "execution_count": 20,
   "id": "8d547529",
   "metadata": {},
   "outputs": [
    {
     "data": {
      "text/plain": [
       "(    age  gender  height_cm  weight_kg  body fat_%  diastolic  systolic  \\\n",
       " 0  27.0       1      172.3      75.24        21.3       80.0     130.0   \n",
       " 1  25.0       1      165.0      55.80        15.7       77.0     126.0   \n",
       " 2  31.0       1      179.6      78.00        20.1       92.0     152.0   \n",
       " 3  32.0       1      174.5      71.10        18.4       76.0     147.0   \n",
       " 4  28.0       1      173.8      67.70        17.1       70.0     127.0   \n",
       " \n",
       "    gripForce  sit and bend forward_cm  sit-ups counts  broad jump_cm  \n",
       " 0       54.9                     18.4            60.0          217.0  \n",
       " 1       36.4                     16.3            53.0          229.0  \n",
       " 2       44.8                     12.0            49.0          181.0  \n",
       " 3       41.4                     15.2            53.0          219.0  \n",
       " 4       43.5                     27.1            45.0          217.0  ,\n",
       " 0    2\n",
       " 1    0\n",
       " 2    2\n",
       " 3    1\n",
       " 4    1\n",
       " Name: class, dtype: int64)"
      ]
     },
     "execution_count": 20,
     "metadata": {},
     "output_type": "execute_result"
    }
   ],
   "source": [
    "x.head(), y.head()"
   ]
  },
  {
   "cell_type": "code",
   "execution_count": 21,
   "id": "7ea8c33c",
   "metadata": {},
   "outputs": [
    {
     "data": {
      "text/html": [
       "<div>\n",
       "<style scoped>\n",
       "    .dataframe tbody tr th:only-of-type {\n",
       "        vertical-align: middle;\n",
       "    }\n",
       "\n",
       "    .dataframe tbody tr th {\n",
       "        vertical-align: top;\n",
       "    }\n",
       "\n",
       "    .dataframe thead th {\n",
       "        text-align: right;\n",
       "    }\n",
       "</style>\n",
       "<table border=\"1\" class=\"dataframe\">\n",
       "  <thead>\n",
       "    <tr style=\"text-align: right;\">\n",
       "      <th></th>\n",
       "      <th>age</th>\n",
       "      <th>gender</th>\n",
       "      <th>height_cm</th>\n",
       "      <th>weight_kg</th>\n",
       "      <th>body fat_%</th>\n",
       "      <th>diastolic</th>\n",
       "      <th>systolic</th>\n",
       "      <th>gripForce</th>\n",
       "      <th>sit and bend forward_cm</th>\n",
       "      <th>sit-ups counts</th>\n",
       "      <th>broad jump_cm</th>\n",
       "    </tr>\n",
       "  </thead>\n",
       "  <tbody>\n",
       "    <tr>\n",
       "      <th>0</th>\n",
       "      <td>0.139535</td>\n",
       "      <td>1.0</td>\n",
       "      <td>0.587738</td>\n",
       "      <td>0.637129</td>\n",
       "      <td>0.490085</td>\n",
       "      <td>0.534483</td>\n",
       "      <td>0.5000</td>\n",
       "      <td>0.771930</td>\n",
       "      <td>0.517685</td>\n",
       "      <td>0.757576</td>\n",
       "      <td>0.612613</td>\n",
       "    </tr>\n",
       "    <tr>\n",
       "      <th>1</th>\n",
       "      <td>0.093023</td>\n",
       "      <td>1.0</td>\n",
       "      <td>0.433404</td>\n",
       "      <td>0.333853</td>\n",
       "      <td>0.331445</td>\n",
       "      <td>0.482759</td>\n",
       "      <td>0.4500</td>\n",
       "      <td>0.501462</td>\n",
       "      <td>0.450161</td>\n",
       "      <td>0.651515</td>\n",
       "      <td>0.666667</td>\n",
       "    </tr>\n",
       "    <tr>\n",
       "      <th>2</th>\n",
       "      <td>0.232558</td>\n",
       "      <td>1.0</td>\n",
       "      <td>0.742072</td>\n",
       "      <td>0.680187</td>\n",
       "      <td>0.456091</td>\n",
       "      <td>0.741379</td>\n",
       "      <td>0.7750</td>\n",
       "      <td>0.624269</td>\n",
       "      <td>0.311897</td>\n",
       "      <td>0.590909</td>\n",
       "      <td>0.450450</td>\n",
       "    </tr>\n",
       "    <tr>\n",
       "      <th>3</th>\n",
       "      <td>0.255814</td>\n",
       "      <td>1.0</td>\n",
       "      <td>0.634249</td>\n",
       "      <td>0.572543</td>\n",
       "      <td>0.407932</td>\n",
       "      <td>0.465517</td>\n",
       "      <td>0.7125</td>\n",
       "      <td>0.574561</td>\n",
       "      <td>0.414791</td>\n",
       "      <td>0.651515</td>\n",
       "      <td>0.621622</td>\n",
       "    </tr>\n",
       "    <tr>\n",
       "      <th>4</th>\n",
       "      <td>0.162791</td>\n",
       "      <td>1.0</td>\n",
       "      <td>0.619450</td>\n",
       "      <td>0.519501</td>\n",
       "      <td>0.371105</td>\n",
       "      <td>0.362069</td>\n",
       "      <td>0.4625</td>\n",
       "      <td>0.605263</td>\n",
       "      <td>0.797428</td>\n",
       "      <td>0.530303</td>\n",
       "      <td>0.612613</td>\n",
       "    </tr>\n",
       "  </tbody>\n",
       "</table>\n",
       "</div>"
      ],
      "text/plain": [
       "        age  gender  height_cm  weight_kg  body fat_%  diastolic  systolic  \\\n",
       "0  0.139535     1.0   0.587738   0.637129    0.490085   0.534483    0.5000   \n",
       "1  0.093023     1.0   0.433404   0.333853    0.331445   0.482759    0.4500   \n",
       "2  0.232558     1.0   0.742072   0.680187    0.456091   0.741379    0.7750   \n",
       "3  0.255814     1.0   0.634249   0.572543    0.407932   0.465517    0.7125   \n",
       "4  0.162791     1.0   0.619450   0.519501    0.371105   0.362069    0.4625   \n",
       "\n",
       "   gripForce  sit and bend forward_cm  sit-ups counts  broad jump_cm  \n",
       "0   0.771930                 0.517685        0.757576       0.612613  \n",
       "1   0.501462                 0.450161        0.651515       0.666667  \n",
       "2   0.624269                 0.311897        0.590909       0.450450  \n",
       "3   0.574561                 0.414791        0.651515       0.621622  \n",
       "4   0.605263                 0.797428        0.530303       0.612613  "
      ]
     },
     "execution_count": 21,
     "metadata": {},
     "output_type": "execute_result"
    }
   ],
   "source": [
    "min_max_scalar = MinMaxScaler()\n",
    "x_min_max_scalar = min_max_scalar.fit_transform(x)\n",
    "x_min_max_scalar = pd.DataFrame(x_min_max_scalar, columns=x.columns)\n",
    "x_min_max_scalar.head()"
   ]
  },
  {
   "cell_type": "markdown",
   "id": "ba89923e",
   "metadata": {},
   "source": [
    "### Standard_scalar"
   ]
  },
  {
   "cell_type": "code",
   "execution_count": 34,
   "id": "2cef7669",
   "metadata": {},
   "outputs": [
    {
     "data": {
      "text/html": [
       "<div>\n",
       "<style scoped>\n",
       "    .dataframe tbody tr th:only-of-type {\n",
       "        vertical-align: middle;\n",
       "    }\n",
       "\n",
       "    .dataframe tbody tr th {\n",
       "        vertical-align: top;\n",
       "    }\n",
       "\n",
       "    .dataframe thead th {\n",
       "        text-align: right;\n",
       "    }\n",
       "</style>\n",
       "<table border=\"1\" class=\"dataframe\">\n",
       "  <thead>\n",
       "    <tr style=\"text-align: right;\">\n",
       "      <th></th>\n",
       "      <th>age</th>\n",
       "      <th>gender</th>\n",
       "      <th>height_cm</th>\n",
       "      <th>weight_kg</th>\n",
       "      <th>body fat_%</th>\n",
       "      <th>diastolic</th>\n",
       "      <th>systolic</th>\n",
       "      <th>gripForce</th>\n",
       "      <th>sit and bend forward_cm</th>\n",
       "      <th>sit-ups counts</th>\n",
       "      <th>broad jump_cm</th>\n",
       "    </tr>\n",
       "  </thead>\n",
       "  <tbody>\n",
       "    <tr>\n",
       "      <th>0</th>\n",
       "      <td>-0.691385</td>\n",
       "      <td>0.776984</td>\n",
       "      <td>0.459941</td>\n",
       "      <td>0.871564</td>\n",
       "      <td>-0.062585</td>\n",
       "      <td>0.151948</td>\n",
       "      <td>0.005875</td>\n",
       "      <td>1.633504</td>\n",
       "      <td>0.127233</td>\n",
       "      <td>1.378273</td>\n",
       "      <td>0.570153</td>\n",
       "    </tr>\n",
       "    <tr>\n",
       "      <th>1</th>\n",
       "      <td>-0.839318</td>\n",
       "      <td>0.776984</td>\n",
       "      <td>-0.435537</td>\n",
       "      <td>-0.939964</td>\n",
       "      <td>-0.934406</td>\n",
       "      <td>-0.137636</td>\n",
       "      <td>-0.274110</td>\n",
       "      <td>-0.124541</td>\n",
       "      <td>-0.239549</td>\n",
       "      <td>0.805193</td>\n",
       "      <td>0.891984</td>\n",
       "    </tr>\n",
       "    <tr>\n",
       "      <th>2</th>\n",
       "      <td>-0.395519</td>\n",
       "      <td>0.776984</td>\n",
       "      <td>1.355420</td>\n",
       "      <td>1.128756</td>\n",
       "      <td>-0.249404</td>\n",
       "      <td>1.310288</td>\n",
       "      <td>1.545791</td>\n",
       "      <td>0.673706</td>\n",
       "      <td>-0.990580</td>\n",
       "      <td>0.477718</td>\n",
       "      <td>-0.395342</td>\n",
       "    </tr>\n",
       "    <tr>\n",
       "      <th>3</th>\n",
       "      <td>-0.321552</td>\n",
       "      <td>0.776984</td>\n",
       "      <td>0.729812</td>\n",
       "      <td>0.485776</td>\n",
       "      <td>-0.514064</td>\n",
       "      <td>-0.234165</td>\n",
       "      <td>1.195810</td>\n",
       "      <td>0.350606</td>\n",
       "      <td>-0.431673</td>\n",
       "      <td>0.805193</td>\n",
       "      <td>0.623791</td>\n",
       "    </tr>\n",
       "    <tr>\n",
       "      <th>4</th>\n",
       "      <td>-0.617418</td>\n",
       "      <td>0.776984</td>\n",
       "      <td>0.643944</td>\n",
       "      <td>0.168945</td>\n",
       "      <td>-0.716451</td>\n",
       "      <td>-0.813335</td>\n",
       "      <td>-0.204114</td>\n",
       "      <td>0.550168</td>\n",
       "      <td>1.646761</td>\n",
       "      <td>0.150244</td>\n",
       "      <td>0.570153</td>\n",
       "    </tr>\n",
       "  </tbody>\n",
       "</table>\n",
       "</div>"
      ],
      "text/plain": [
       "        age    gender  height_cm  weight_kg  body fat_%  diastolic  systolic  \\\n",
       "0 -0.691385  0.776984   0.459941   0.871564   -0.062585   0.151948  0.005875   \n",
       "1 -0.839318  0.776984  -0.435537  -0.939964   -0.934406  -0.137636 -0.274110   \n",
       "2 -0.395519  0.776984   1.355420   1.128756   -0.249404   1.310288  1.545791   \n",
       "3 -0.321552  0.776984   0.729812   0.485776   -0.514064  -0.234165  1.195810   \n",
       "4 -0.617418  0.776984   0.643944   0.168945   -0.716451  -0.813335 -0.204114   \n",
       "\n",
       "   gripForce  sit and bend forward_cm  sit-ups counts  broad jump_cm  \n",
       "0   1.633504                 0.127233        1.378273       0.570153  \n",
       "1  -0.124541                -0.239549        0.805193       0.891984  \n",
       "2   0.673706                -0.990580        0.477718      -0.395342  \n",
       "3   0.350606                -0.431673        0.805193       0.623791  \n",
       "4   0.550168                 1.646761        0.150244       0.570153  "
      ]
     },
     "execution_count": 34,
     "metadata": {},
     "output_type": "execute_result"
    }
   ],
   "source": [
    "std_scalar = StandardScaler()\n",
    "x_std_scalar = std_scalar.fit_transform(x)\n",
    "x_std_scalar = pd.DataFrame(x_std_scalar, columns=x.columns)\n",
    "x_std_scalar.head()"
   ]
  },
  {
   "cell_type": "code",
   "execution_count": null,
   "id": "cca0f0f8",
   "metadata": {},
   "outputs": [],
   "source": []
  },
  {
   "cell_type": "markdown",
   "id": "661dbfa3",
   "metadata": {},
   "source": [
    "# Feature Selection"
   ]
  },
  {
   "cell_type": "markdown",
   "id": "06c82959",
   "metadata": {},
   "source": [
    "## By filter Method"
   ]
  },
  {
   "cell_type": "code",
   "execution_count": 23,
   "id": "0f3e14fc",
   "metadata": {},
   "outputs": [
    {
     "data": {
      "text/plain": [
       "<Axes: >"
      ]
     },
     "execution_count": 23,
     "metadata": {},
     "output_type": "execute_result"
    },
    {
     "data": {
      "image/png": "[encoded data removed]",
      "text/plain": [
       "<Figure size 1500x100 with 2 Axes>"
      ]
     },
     "metadata": {},
     "output_type": "display_data"
    }
   ],
   "source": [
    "plt.figure(figsize = (15,1))\n",
    "sns.heatmap(df.corr().tail(1), annot= True)"
   ]
  },
  {
   "cell_type": "code",
   "execution_count": 24,
   "id": "d39be9eb",
   "metadata": {},
   "outputs": [
    {
     "data": {
      "text/plain": [
       "array([0.01390614, 0.        , 0.00405135, 0.00144987, 0.01889329,\n",
       "       0.        , 0.00747009, 0.02796798, 0.18393988, 0.0469867 ,\n",
       "       0.0246323 ])"
      ]
     },
     "execution_count": 24,
     "metadata": {},
     "output_type": "execute_result"
    }
   ],
   "source": [
    "mutual_info_classif(x,y)"
   ]
  },
  {
   "cell_type": "code",
   "execution_count": 25,
   "id": "0c66cb9f",
   "metadata": {},
   "outputs": [],
   "source": [
    "arr = mutual_info_classif(x,y)\n",
    "s1 = pd.Series(arr,index=x.columns)"
   ]
  },
  {
   "cell_type": "code",
   "execution_count": 26,
   "id": "e534c647",
   "metadata": {},
   "outputs": [
    {
     "data": {
      "text/plain": [
       "weight_kg                  0.000000\n",
       "diastolic                  0.000000\n",
       "systolic                   0.000000\n",
       "age                        0.002079\n",
       "height_cm                  0.006412\n",
       "gender                     0.007684\n",
       "body fat_%                 0.017767\n",
       "gripForce                  0.026409\n",
       "broad jump_cm              0.031935\n",
       "sit-ups counts             0.050350\n",
       "sit and bend forward_cm    0.181632\n",
       "dtype: float64"
      ]
     },
     "execution_count": 26,
     "metadata": {},
     "output_type": "execute_result"
    }
   ],
   "source": [
    "s1.sort_values()"
   ]
  },
  {
   "cell_type": "code",
   "execution_count": 27,
   "id": "02161982",
   "metadata": {},
   "outputs": [
    {
     "data": {
      "text/plain": [
       "weight_kg                  0.000000\n",
       "diastolic                  0.000000\n",
       "systolic                   0.000000\n",
       "age                        0.002079\n",
       "height_cm                  0.006412\n",
       "gender                     0.007684\n",
       "body fat_%                 0.017767\n",
       "gripForce                  0.026409\n",
       "broad jump_cm              0.031935\n",
       "sit-ups counts             0.050350\n",
       "sit and bend forward_cm    0.181632\n",
       "dtype: float64"
      ]
     },
     "execution_count": 27,
     "metadata": {},
     "output_type": "execute_result"
    }
   ],
   "source": [
    "arr2 = mutual_info_classif(x_min_max_scalar,y)\n",
    "s2 = pd.Series(arr,index=x.columns)\n",
    "s2.sort_values()"
   ]
  },
  {
   "cell_type": "code",
   "execution_count": 28,
   "id": "f62321fe",
   "metadata": {},
   "outputs": [
    {
     "data": {
      "text/plain": [
       "weight_kg                  0.000000\n",
       "diastolic                  0.000000\n",
       "systolic                   0.000000\n",
       "age                        0.002079\n",
       "height_cm                  0.006412\n",
       "gender                     0.007684\n",
       "body fat_%                 0.017767\n",
       "gripForce                  0.026409\n",
       "broad jump_cm              0.031935\n",
       "sit-ups counts             0.050350\n",
       "sit and bend forward_cm    0.181632\n",
       "dtype: float64"
      ]
     },
     "execution_count": 28,
     "metadata": {},
     "output_type": "execute_result"
    }
   ],
   "source": [
    "arr3 = mutual_info_classif(x_std_scalar,y)\n",
    "s3 = pd.Series(arr,index=x.columns)\n",
    "s3.sort_values()"
   ]
  },
  {
   "cell_type": "code",
   "execution_count": 29,
   "id": "707b3b2d",
   "metadata": {},
   "outputs": [
    {
     "data": {
      "text/plain": [
       "['age',\n",
       " 'gender',\n",
       " 'height_cm',\n",
       " 'weight_kg',\n",
       " 'body fat_%',\n",
       " 'diastolic',\n",
       " 'systolic',\n",
       " 'gripForce',\n",
       " 'sit and bend forward_cm',\n",
       " 'sit-ups counts',\n",
       " 'broad jump_cm']"
      ]
     },
     "execution_count": 29,
     "metadata": {},
     "output_type": "execute_result"
    }
   ],
   "source": [
    "x.columns.tolist()"
   ]
  },
  {
   "cell_type": "code",
   "execution_count": 30,
   "id": "2eb103ae",
   "metadata": {},
   "outputs": [
    {
     "data": {
      "text/plain": [
       "Index(['age', 'gender', 'height_cm', 'weight_kg', 'body fat_%', 'diastolic',\n",
       "       'systolic', 'gripForce', 'sit and bend forward_cm', 'sit-ups counts',\n",
       "       'broad jump_cm'],\n",
       "      dtype='object')"
      ]
     },
     "execution_count": 30,
     "metadata": {},
     "output_type": "execute_result"
    }
   ],
   "source": [
    "x_std_scalar.columns"
   ]
  },
  {
   "cell_type": "code",
   "execution_count": 31,
   "id": "7e6b077d",
   "metadata": {},
   "outputs": [
    {
     "data": {
      "text/html": [
       "<div>\n",
       "<style scoped>\n",
       "    .dataframe tbody tr th:only-of-type {\n",
       "        vertical-align: middle;\n",
       "    }\n",
       "\n",
       "    .dataframe tbody tr th {\n",
       "        vertical-align: top;\n",
       "    }\n",
       "\n",
       "    .dataframe thead th {\n",
       "        text-align: right;\n",
       "    }\n",
       "</style>\n",
       "<table border=\"1\" class=\"dataframe\">\n",
       "  <thead>\n",
       "    <tr style=\"text-align: right;\">\n",
       "      <th></th>\n",
       "      <th>age</th>\n",
       "      <th>height_cm</th>\n",
       "      <th>body fat_%</th>\n",
       "      <th>systolic</th>\n",
       "      <th>gripForce</th>\n",
       "      <th>sit and bend forward_cm</th>\n",
       "      <th>sit-ups counts</th>\n",
       "      <th>broad jump_cm</th>\n",
       "    </tr>\n",
       "  </thead>\n",
       "  <tbody>\n",
       "    <tr>\n",
       "      <th>0</th>\n",
       "      <td>0.139535</td>\n",
       "      <td>0.587738</td>\n",
       "      <td>0.490085</td>\n",
       "      <td>0.5000</td>\n",
       "      <td>0.771930</td>\n",
       "      <td>0.517685</td>\n",
       "      <td>0.757576</td>\n",
       "      <td>0.612613</td>\n",
       "    </tr>\n",
       "    <tr>\n",
       "      <th>1</th>\n",
       "      <td>0.093023</td>\n",
       "      <td>0.433404</td>\n",
       "      <td>0.331445</td>\n",
       "      <td>0.4500</td>\n",
       "      <td>0.501462</td>\n",
       "      <td>0.450161</td>\n",
       "      <td>0.651515</td>\n",
       "      <td>0.666667</td>\n",
       "    </tr>\n",
       "    <tr>\n",
       "      <th>2</th>\n",
       "      <td>0.232558</td>\n",
       "      <td>0.742072</td>\n",
       "      <td>0.456091</td>\n",
       "      <td>0.7750</td>\n",
       "      <td>0.624269</td>\n",
       "      <td>0.311897</td>\n",
       "      <td>0.590909</td>\n",
       "      <td>0.450450</td>\n",
       "    </tr>\n",
       "    <tr>\n",
       "      <th>3</th>\n",
       "      <td>0.255814</td>\n",
       "      <td>0.634249</td>\n",
       "      <td>0.407932</td>\n",
       "      <td>0.7125</td>\n",
       "      <td>0.574561</td>\n",
       "      <td>0.414791</td>\n",
       "      <td>0.651515</td>\n",
       "      <td>0.621622</td>\n",
       "    </tr>\n",
       "    <tr>\n",
       "      <th>4</th>\n",
       "      <td>0.162791</td>\n",
       "      <td>0.619450</td>\n",
       "      <td>0.371105</td>\n",
       "      <td>0.4625</td>\n",
       "      <td>0.605263</td>\n",
       "      <td>0.797428</td>\n",
       "      <td>0.530303</td>\n",
       "      <td>0.612613</td>\n",
       "    </tr>\n",
       "    <tr>\n",
       "      <th>...</th>\n",
       "      <td>...</td>\n",
       "      <td>...</td>\n",
       "      <td>...</td>\n",
       "      <td>...</td>\n",
       "      <td>...</td>\n",
       "      <td>...</td>\n",
       "      <td>...</td>\n",
       "      <td>...</td>\n",
       "    </tr>\n",
       "    <tr>\n",
       "      <th>10039</th>\n",
       "      <td>1.000000</td>\n",
       "      <td>0.167019</td>\n",
       "      <td>0.824363</td>\n",
       "      <td>0.8500</td>\n",
       "      <td>0.312865</td>\n",
       "      <td>0.569132</td>\n",
       "      <td>0.060606</td>\n",
       "      <td>0.328829</td>\n",
       "    </tr>\n",
       "    <tr>\n",
       "      <th>10040</th>\n",
       "      <td>0.418605</td>\n",
       "      <td>0.632135</td>\n",
       "      <td>0.575071</td>\n",
       "      <td>0.5250</td>\n",
       "      <td>0.577485</td>\n",
       "      <td>0.311897</td>\n",
       "      <td>0.515152</td>\n",
       "      <td>0.391892</td>\n",
       "    </tr>\n",
       "    <tr>\n",
       "      <th>10041</th>\n",
       "      <td>0.093023</td>\n",
       "      <td>0.583510</td>\n",
       "      <td>0.345609</td>\n",
       "      <td>0.6375</td>\n",
       "      <td>0.492690</td>\n",
       "      <td>0.485531</td>\n",
       "      <td>0.560606</td>\n",
       "      <td>0.527027</td>\n",
       "    </tr>\n",
       "    <tr>\n",
       "      <th>10042</th>\n",
       "      <td>0.418605</td>\n",
       "      <td>0.691332</td>\n",
       "      <td>0.456091</td>\n",
       "      <td>0.5250</td>\n",
       "      <td>0.897661</td>\n",
       "      <td>0.453376</td>\n",
       "      <td>0.530303</td>\n",
       "      <td>0.666667</td>\n",
       "    </tr>\n",
       "    <tr>\n",
       "      <th>10043</th>\n",
       "      <td>0.302326</td>\n",
       "      <td>0.412262</td>\n",
       "      <td>0.439093</td>\n",
       "      <td>0.7500</td>\n",
       "      <td>0.494152</td>\n",
       "      <td>0.154341</td>\n",
       "      <td>0.621212</td>\n",
       "      <td>0.445946</td>\n",
       "    </tr>\n",
       "  </tbody>\n",
       "</table>\n",
       "<p>10044 rows × 8 columns</p>\n",
       "</div>"
      ],
      "text/plain": [
       "            age  height_cm  body fat_%  systolic  gripForce  \\\n",
       "0      0.139535   0.587738    0.490085    0.5000   0.771930   \n",
       "1      0.093023   0.433404    0.331445    0.4500   0.501462   \n",
       "2      0.232558   0.742072    0.456091    0.7750   0.624269   \n",
       "3      0.255814   0.634249    0.407932    0.7125   0.574561   \n",
       "4      0.162791   0.619450    0.371105    0.4625   0.605263   \n",
       "...         ...        ...         ...       ...        ...   \n",
       "10039  1.000000   0.167019    0.824363    0.8500   0.312865   \n",
       "10040  0.418605   0.632135    0.575071    0.5250   0.577485   \n",
       "10041  0.093023   0.583510    0.345609    0.6375   0.492690   \n",
       "10042  0.418605   0.691332    0.456091    0.5250   0.897661   \n",
       "10043  0.302326   0.412262    0.439093    0.7500   0.494152   \n",
       "\n",
       "       sit and bend forward_cm  sit-ups counts  broad jump_cm  \n",
       "0                     0.517685        0.757576       0.612613  \n",
       "1                     0.450161        0.651515       0.666667  \n",
       "2                     0.311897        0.590909       0.450450  \n",
       "3                     0.414791        0.651515       0.621622  \n",
       "4                     0.797428        0.530303       0.612613  \n",
       "...                        ...             ...            ...  \n",
       "10039                 0.569132        0.060606       0.328829  \n",
       "10040                 0.311897        0.515152       0.391892  \n",
       "10041                 0.485531        0.560606       0.527027  \n",
       "10042                 0.453376        0.530303       0.666667  \n",
       "10043                 0.154341        0.621212       0.445946  \n",
       "\n",
       "[10044 rows x 8 columns]"
      ]
     },
     "execution_count": 31,
     "metadata": {},
     "output_type": "execute_result"
    }
   ],
   "source": [
    "x_min_max_scalar = x_min_max_scalar.drop(['weight_kg','gender','diastolic'], axis=1)\n",
    "x_min_max_scalar"
   ]
  },
  {
   "cell_type": "code",
   "execution_count": 35,
   "id": "10b6189b",
   "metadata": {},
   "outputs": [
    {
     "data": {
      "text/html": [
       "<div>\n",
       "<style scoped>\n",
       "    .dataframe tbody tr th:only-of-type {\n",
       "        vertical-align: middle;\n",
       "    }\n",
       "\n",
       "    .dataframe tbody tr th {\n",
       "        vertical-align: top;\n",
       "    }\n",
       "\n",
       "    .dataframe thead th {\n",
       "        text-align: right;\n",
       "    }\n",
       "</style>\n",
       "<table border=\"1\" class=\"dataframe\">\n",
       "  <thead>\n",
       "    <tr style=\"text-align: right;\">\n",
       "      <th></th>\n",
       "      <th>age</th>\n",
       "      <th>height_cm</th>\n",
       "      <th>body fat_%</th>\n",
       "      <th>systolic</th>\n",
       "      <th>gripForce</th>\n",
       "      <th>sit and bend forward_cm</th>\n",
       "      <th>sit-ups counts</th>\n",
       "      <th>broad jump_cm</th>\n",
       "    </tr>\n",
       "  </thead>\n",
       "  <tbody>\n",
       "    <tr>\n",
       "      <th>0</th>\n",
       "      <td>-0.691385</td>\n",
       "      <td>0.459941</td>\n",
       "      <td>-0.062585</td>\n",
       "      <td>0.005875</td>\n",
       "      <td>1.633504</td>\n",
       "      <td>0.127233</td>\n",
       "      <td>1.378273</td>\n",
       "      <td>0.570153</td>\n",
       "    </tr>\n",
       "    <tr>\n",
       "      <th>1</th>\n",
       "      <td>-0.839318</td>\n",
       "      <td>-0.435537</td>\n",
       "      <td>-0.934406</td>\n",
       "      <td>-0.274110</td>\n",
       "      <td>-0.124541</td>\n",
       "      <td>-0.239549</td>\n",
       "      <td>0.805193</td>\n",
       "      <td>0.891984</td>\n",
       "    </tr>\n",
       "    <tr>\n",
       "      <th>2</th>\n",
       "      <td>-0.395519</td>\n",
       "      <td>1.355420</td>\n",
       "      <td>-0.249404</td>\n",
       "      <td>1.545791</td>\n",
       "      <td>0.673706</td>\n",
       "      <td>-0.990580</td>\n",
       "      <td>0.477718</td>\n",
       "      <td>-0.395342</td>\n",
       "    </tr>\n",
       "    <tr>\n",
       "      <th>3</th>\n",
       "      <td>-0.321552</td>\n",
       "      <td>0.729812</td>\n",
       "      <td>-0.514064</td>\n",
       "      <td>1.195810</td>\n",
       "      <td>0.350606</td>\n",
       "      <td>-0.431673</td>\n",
       "      <td>0.805193</td>\n",
       "      <td>0.623791</td>\n",
       "    </tr>\n",
       "    <tr>\n",
       "      <th>4</th>\n",
       "      <td>-0.617418</td>\n",
       "      <td>0.643944</td>\n",
       "      <td>-0.716451</td>\n",
       "      <td>-0.204114</td>\n",
       "      <td>0.550168</td>\n",
       "      <td>1.646761</td>\n",
       "      <td>0.150244</td>\n",
       "      <td>0.570153</td>\n",
       "    </tr>\n",
       "    <tr>\n",
       "      <th>...</th>\n",
       "      <td>...</td>\n",
       "      <td>...</td>\n",
       "      <td>...</td>\n",
       "      <td>...</td>\n",
       "      <td>...</td>\n",
       "      <td>...</td>\n",
       "      <td>...</td>\n",
       "      <td>...</td>\n",
       "    </tr>\n",
       "    <tr>\n",
       "      <th>10039</th>\n",
       "      <td>2.045375</td>\n",
       "      <td>-1.981158</td>\n",
       "      <td>1.774465</td>\n",
       "      <td>1.965769</td>\n",
       "      <td>-1.350421</td>\n",
       "      <td>0.406687</td>\n",
       "      <td>-2.387682</td>\n",
       "      <td>-1.119462</td>\n",
       "    </tr>\n",
       "    <tr>\n",
       "      <th>10040</th>\n",
       "      <td>0.196213</td>\n",
       "      <td>0.717545</td>\n",
       "      <td>0.404461</td>\n",
       "      <td>0.145867</td>\n",
       "      <td>0.369612</td>\n",
       "      <td>-0.990580</td>\n",
       "      <td>0.068375</td>\n",
       "      <td>-0.743992</td>\n",
       "    </tr>\n",
       "    <tr>\n",
       "      <th>10041</th>\n",
       "      <td>-0.839318</td>\n",
       "      <td>0.435408</td>\n",
       "      <td>-0.856565</td>\n",
       "      <td>0.775833</td>\n",
       "      <td>-0.181559</td>\n",
       "      <td>-0.047425</td>\n",
       "      <td>0.313981</td>\n",
       "      <td>0.060586</td>\n",
       "    </tr>\n",
       "    <tr>\n",
       "      <th>10042</th>\n",
       "      <td>0.196213</td>\n",
       "      <td>1.061016</td>\n",
       "      <td>-0.249404</td>\n",
       "      <td>0.145867</td>\n",
       "      <td>2.450757</td>\n",
       "      <td>-0.222083</td>\n",
       "      <td>0.150244</td>\n",
       "      <td>0.891984</td>\n",
       "    </tr>\n",
       "    <tr>\n",
       "      <th>10043</th>\n",
       "      <td>-0.173619</td>\n",
       "      <td>-0.558206</td>\n",
       "      <td>-0.342814</td>\n",
       "      <td>1.405799</td>\n",
       "      <td>-0.172056</td>\n",
       "      <td>-1.846406</td>\n",
       "      <td>0.641456</td>\n",
       "      <td>-0.422161</td>\n",
       "    </tr>\n",
       "  </tbody>\n",
       "</table>\n",
       "<p>10044 rows × 8 columns</p>\n",
       "</div>"
      ],
      "text/plain": [
       "            age  height_cm  body fat_%  systolic  gripForce  \\\n",
       "0     -0.691385   0.459941   -0.062585  0.005875   1.633504   \n",
       "1     -0.839318  -0.435537   -0.934406 -0.274110  -0.124541   \n",
       "2     -0.395519   1.355420   -0.249404  1.545791   0.673706   \n",
       "3     -0.321552   0.729812   -0.514064  1.195810   0.350606   \n",
       "4     -0.617418   0.643944   -0.716451 -0.204114   0.550168   \n",
       "...         ...        ...         ...       ...        ...   \n",
       "10039  2.045375  -1.981158    1.774465  1.965769  -1.350421   \n",
       "10040  0.196213   0.717545    0.404461  0.145867   0.369612   \n",
       "10041 -0.839318   0.435408   -0.856565  0.775833  -0.181559   \n",
       "10042  0.196213   1.061016   -0.249404  0.145867   2.450757   \n",
       "10043 -0.173619  -0.558206   -0.342814  1.405799  -0.172056   \n",
       "\n",
       "       sit and bend forward_cm  sit-ups counts  broad jump_cm  \n",
       "0                     0.127233        1.378273       0.570153  \n",
       "1                    -0.239549        0.805193       0.891984  \n",
       "2                    -0.990580        0.477718      -0.395342  \n",
       "3                    -0.431673        0.805193       0.623791  \n",
       "4                     1.646761        0.150244       0.570153  \n",
       "...                        ...             ...            ...  \n",
       "10039                 0.406687       -2.387682      -1.119462  \n",
       "10040                -0.990580        0.068375      -0.743992  \n",
       "10041                -0.047425        0.313981       0.060586  \n",
       "10042                -0.222083        0.150244       0.891984  \n",
       "10043                -1.846406        0.641456      -0.422161  \n",
       "\n",
       "[10044 rows x 8 columns]"
      ]
     },
     "execution_count": 35,
     "metadata": {},
     "output_type": "execute_result"
    }
   ],
   "source": [
    "x_std_scalar = x_std_scalar.drop(['weight_kg','gender','diastolic'], axis=1)\n",
    "x_std_scalar"
   ]
  },
  {
   "cell_type": "markdown",
   "id": "79570742",
   "metadata": {},
   "source": [
    "# Model Training\n",
    "\n"
   ]
  },
  {
   "cell_type": "markdown",
   "id": "4dd03855",
   "metadata": {},
   "source": [
    "#### Split data into train and test set"
   ]
  },
  {
   "cell_type": "code",
   "execution_count": 36,
   "id": "af4d7d0f",
   "metadata": {},
   "outputs": [
    {
     "data": {
      "text/plain": [
       "((7533, 8), (2511, 8), (7533,), (2511,))"
      ]
     },
     "execution_count": 36,
     "metadata": {},
     "output_type": "execute_result"
    }
   ],
   "source": [
    "x_min_train, x_min_test, y_min_train, y_min_test  = train_test_split(x_min_max_scalar,y, test_size=0.25, random_state=54)\n",
    "x_min_train.shape, x_min_test.shape, y_min_train.shape, y_min_test.shape"
   ]
  },
  {
   "cell_type": "code",
   "execution_count": 37,
   "id": "185255c2",
   "metadata": {},
   "outputs": [
    {
     "data": {
      "text/html": [
       "<style>#sk-container-id-1 {color: black;background-color: white;}#sk-container-id-1 pre{padding: 0;}#sk-container-id-1 div.sk-toggleable {background-color: white;}#sk-container-id-1 label.sk-toggleable__label {cursor: pointer;display: block;width: 100%;margin-bottom: 0;padding: 0.3em;box-sizing: border-box;text-align: center;}#sk-container-id-1 label.sk-toggleable__label-arrow:before {content: \"▸\";float: left;margin-right: 0.25em;color: #696969;}#sk-container-id-1 label.sk-toggleable__label-arrow:hover:before {color: black;}#sk-container-id-1 div.sk-estimator:hover label.sk-toggleable__label-arrow:before {color: black;}#sk-container-id-1 div.sk-toggleable__content {max-height: 0;max-width: 0;overflow: hidden;text-align: left;background-color: #f0f8ff;}#sk-container-id-1 div.sk-toggleable__content pre {margin: 0.2em;color: black;border-radius: 0.25em;background-color: #f0f8ff;}#sk-container-id-1 input.sk-toggleable__control:checked~div.sk-toggleable__content {max-height: 200px;max-width: 100%;overflow: auto;}#sk-container-id-1 input.sk-toggleable__control:checked~label.sk-toggleable__label-arrow:before {content: \"▾\";}#sk-container-id-1 div.sk-estimator input.sk-toggleable__control:checked~label.sk-toggleable__label {background-color: #d4ebff;}#sk-container-id-1 div.sk-label input.sk-toggleable__control:checked~label.sk-toggleable__label {background-color: #d4ebff;}#sk-container-id-1 input.sk-hidden--visually {border: 0;clip: rect(1px 1px 1px 1px);clip: rect(1px, 1px, 1px, 1px);height: 1px;margin: -1px;overflow: hidden;padding: 0;position: absolute;width: 1px;}#sk-container-id-1 div.sk-estimator {font-family: monospace;background-color: #f0f8ff;border: 1px dotted black;border-radius: 0.25em;box-sizing: border-box;margin-bottom: 0.5em;}#sk-container-id-1 div.sk-estimator:hover {background-color: #d4ebff;}#sk-container-id-1 div.sk-parallel-item::after {content: \"\";width: 100%;border-bottom: 1px solid gray;flex-grow: 1;}#sk-container-id-1 div.sk-label:hover label.sk-toggleable__label {background-color: #d4ebff;}#sk-container-id-1 div.sk-serial::before {content: \"\";position: absolute;border-left: 1px solid gray;box-sizing: border-box;top: 0;bottom: 0;left: 50%;z-index: 0;}#sk-container-id-1 div.sk-serial {display: flex;flex-direction: column;align-items: center;background-color: white;padding-right: 0.2em;padding-left: 0.2em;position: relative;}#sk-container-id-1 div.sk-item {position: relative;z-index: 1;}#sk-container-id-1 div.sk-parallel {display: flex;align-items: stretch;justify-content: center;background-color: white;position: relative;}#sk-container-id-1 div.sk-item::before, #sk-container-id-1 div.sk-parallel-item::before {content: \"\";position: absolute;border-left: 1px solid gray;box-sizing: border-box;top: 0;bottom: 0;left: 50%;z-index: -1;}#sk-container-id-1 div.sk-parallel-item {display: flex;flex-direction: column;z-index: 1;position: relative;background-color: white;}#sk-container-id-1 div.sk-parallel-item:first-child::after {align-self: flex-end;width: 50%;}#sk-container-id-1 div.sk-parallel-item:last-child::after {align-self: flex-start;width: 50%;}#sk-container-id-1 div.sk-parallel-item:only-child::after {width: 0;}#sk-container-id-1 div.sk-dashed-wrapped {border: 1px dashed gray;margin: 0 0.4em 0.5em 0.4em;box-sizing: border-box;padding-bottom: 0.4em;background-color: white;}#sk-container-id-1 div.sk-label label {font-family: monospace;font-weight: bold;display: inline-block;line-height: 1.2em;}#sk-container-id-1 div.sk-label-container {text-align: center;}#sk-container-id-1 div.sk-container {/* jupyter's `normalize.less` sets `[hidden] { display: none; }` but bootstrap.min.css set `[hidden] { display: none !important; }` so we also need the `!important` here to be able to override the default hidden behavior on the sphinx rendered scikit-learn.org. See: https://github.com/scikit-learn/scikit-learn/issues/21755 */display: inline-block !important;position: relative;}#sk-container-id-1 div.sk-text-repr-fallback {display: none;}</style><div id=\"sk-container-id-1\" class=\"sk-top-container\"><div class=\"sk-text-repr-fallback\"><pre>LogisticRegression(random_state=17)</pre><b>In a Jupyter environment, please rerun this cell to show the HTML representation or trust the notebook. <br />On GitHub, the HTML representation is unable to render, please try loading this page with nbviewer.org.</b></div><div class=\"sk-container\" hidden><div class=\"sk-item\"><div class=\"sk-estimator sk-toggleable\"><input class=\"sk-toggleable__control sk-hidden--visually\" id=\"sk-estimator-id-1\" type=\"checkbox\" checked><label for=\"sk-estimator-id-1\" class=\"sk-toggleable__label sk-toggleable__label-arrow\">LogisticRegression</label><div class=\"sk-toggleable__content\"><pre>LogisticRegression(random_state=17)</pre></div></div></div></div></div>"
      ],
      "text/plain": [
       "LogisticRegression(random_state=17)"
      ]
     },
     "execution_count": 37,
     "metadata": {},
     "output_type": "execute_result"
    }
   ],
   "source": [
    "Model = LogisticRegression(random_state=17)\n",
    "Model.fit(x_min_train,y_min_train)"
   ]
  },
  {
   "cell_type": "code",
   "execution_count": 39,
   "id": "5569b7c3",
   "metadata": {},
   "outputs": [],
   "source": [
    "## Model Evaluation\n",
    "def model_eval(model,x,y):\n",
    "    y_pred  = model.predict(x)\n",
    "    \n",
    "    print(f'Accuracy score : {accuracy_score(y,y_pred)}')\n",
    "    print(f'Confusion Matrix : \\n{confusion_matrix(y,y_pred)}')\n",
    "    print(f'Classification report : \\n{classification_report(y,y_pred)}')\n",
    "    return 'Success'"
   ]
  },
  {
   "cell_type": "code",
   "execution_count": 40,
   "id": "ff09d869",
   "metadata": {},
   "outputs": [
    {
     "name": "stdout",
     "output_type": "stream",
     "text": [
      "Accuracy score : 0.6000265498473384\n",
      "Confusion Matrix : \n",
      "[[1762  651   76]\n",
      " [ 654 1016  841]\n",
      " [ 306  485 1742]]\n",
      "Classification report : \n",
      "              precision    recall  f1-score   support\n",
      "\n",
      "           0       0.65      0.71      0.68      2489\n",
      "           1       0.47      0.40      0.44      2511\n",
      "           2       0.66      0.69      0.67      2533\n",
      "\n",
      "    accuracy                           0.60      7533\n",
      "   macro avg       0.59      0.60      0.59      7533\n",
      "weighted avg       0.59      0.60      0.59      7533\n",
      "\n"
     ]
    },
    {
     "data": {
      "text/plain": [
       "'Success'"
      ]
     },
     "execution_count": 40,
     "metadata": {},
     "output_type": "execute_result"
    }
   ],
   "source": [
    "model_eval(Model,x_min_train,y_min_train)"
   ]
  },
  {
   "cell_type": "code",
   "execution_count": 43,
   "id": "10a575b0",
   "metadata": {},
   "outputs": [
    {
     "name": "stdout",
     "output_type": "stream",
     "text": [
      "Accuracy score : 0.5953803265631222\n",
      "Confusion Matrix : \n",
      "[[618 216  25]\n",
      " [240 313 283]\n",
      " [102 150 564]]\n",
      "Classification report : \n",
      "              precision    recall  f1-score   support\n",
      "\n",
      "           0       0.64      0.72      0.68       859\n",
      "           1       0.46      0.37      0.41       836\n",
      "           2       0.65      0.69      0.67       816\n",
      "\n",
      "    accuracy                           0.60      2511\n",
      "   macro avg       0.58      0.60      0.59      2511\n",
      "weighted avg       0.58      0.60      0.59      2511\n",
      "\n"
     ]
    },
    {
     "data": {
      "text/plain": [
       "'Success'"
      ]
     },
     "execution_count": 43,
     "metadata": {},
     "output_type": "execute_result"
    }
   ],
   "source": [
    "model_eval(Model,x_min_test,y_min_test)"
   ]
  },
  {
   "cell_type": "markdown",
   "id": "534f7477",
   "metadata": {},
   "source": [
    "###  Hyper parameter Tuning"
   ]
  },
  {
   "cell_type": "code",
   "execution_count": null,
   "id": "0d29ab15-c64c-4f1d-8972-81b7d7e45665",
   "metadata": {},
   "outputs": [],
   "source": [
    "LogisticRegression()"
   ]
  },
  {
   "cell_type": "code",
   "execution_count": null,
   "id": "8e980673",
   "metadata": {},
   "outputs": [],
   "source": [
    "\n"
   ]
  },
  {
   "cell_type": "code",
   "execution_count": null,
   "id": "6e079e4f",
   "metadata": {},
   "outputs": [],
   "source": []
  },
  {
   "cell_type": "code",
   "execution_count": null,
   "id": "fecfa939",
   "metadata": {},
   "outputs": [],
   "source": []
  },
  {
   "cell_type": "code",
   "execution_count": null,
   "id": "d949475b",
   "metadata": {},
   "outputs": [],
   "source": []
  },
  {
   "cell_type": "markdown",
   "id": "23cde1c9",
   "metadata": {},
   "source": [
    "# On standard Scalar"
   ]
  },
  {
   "cell_type": "code",
   "execution_count": 44,
   "id": "d8350a3d",
   "metadata": {},
   "outputs": [
    {
     "data": {
      "text/plain": [
       "((7533, 8), (2511, 8), (7533,), (2511,))"
      ]
     },
     "execution_count": 44,
     "metadata": {},
     "output_type": "execute_result"
    }
   ],
   "source": [
    "x_train, x_test, y_train, y_test  = train_test_split(x_std_scalar,y, test_size=0.25, random_state=54)\n",
    "x_train.shape, x_test.shape, y_train.shape, y_test.shape"
   ]
  },
  {
   "cell_type": "code",
   "execution_count": 45,
   "id": "5e0148bc",
   "metadata": {},
   "outputs": [
    {
     "data": {
      "text/html": [
       "<style>#sk-container-id-2 {color: black;background-color: white;}#sk-container-id-2 pre{padding: 0;}#sk-container-id-2 div.sk-toggleable {background-color: white;}#sk-container-id-2 label.sk-toggleable__label {cursor: pointer;display: block;width: 100%;margin-bottom: 0;padding: 0.3em;box-sizing: border-box;text-align: center;}#sk-container-id-2 label.sk-toggleable__label-arrow:before {content: \"▸\";float: left;margin-right: 0.25em;color: #696969;}#sk-container-id-2 label.sk-toggleable__label-arrow:hover:before {color: black;}#sk-container-id-2 div.sk-estimator:hover label.sk-toggleable__label-arrow:before {color: black;}#sk-container-id-2 div.sk-toggleable__content {max-height: 0;max-width: 0;overflow: hidden;text-align: left;background-color: #f0f8ff;}#sk-container-id-2 div.sk-toggleable__content pre {margin: 0.2em;color: black;border-radius: 0.25em;background-color: #f0f8ff;}#sk-container-id-2 input.sk-toggleable__control:checked~div.sk-toggleable__content {max-height: 200px;max-width: 100%;overflow: auto;}#sk-container-id-2 input.sk-toggleable__control:checked~label.sk-toggleable__label-arrow:before {content: \"▾\";}#sk-container-id-2 div.sk-estimator input.sk-toggleable__control:checked~label.sk-toggleable__label {background-color: #d4ebff;}#sk-container-id-2 div.sk-label input.sk-toggleable__control:checked~label.sk-toggleable__label {background-color: #d4ebff;}#sk-container-id-2 input.sk-hidden--visually {border: 0;clip: rect(1px 1px 1px 1px);clip: rect(1px, 1px, 1px, 1px);height: 1px;margin: -1px;overflow: hidden;padding: 0;position: absolute;width: 1px;}#sk-container-id-2 div.sk-estimator {font-family: monospace;background-color: #f0f8ff;border: 1px dotted black;border-radius: 0.25em;box-sizing: border-box;margin-bottom: 0.5em;}#sk-container-id-2 div.sk-estimator:hover {background-color: #d4ebff;}#sk-container-id-2 div.sk-parallel-item::after {content: \"\";width: 100%;border-bottom: 1px solid gray;flex-grow: 1;}#sk-container-id-2 div.sk-label:hover label.sk-toggleable__label {background-color: #d4ebff;}#sk-container-id-2 div.sk-serial::before {content: \"\";position: absolute;border-left: 1px solid gray;box-sizing: border-box;top: 0;bottom: 0;left: 50%;z-index: 0;}#sk-container-id-2 div.sk-serial {display: flex;flex-direction: column;align-items: center;background-color: white;padding-right: 0.2em;padding-left: 0.2em;position: relative;}#sk-container-id-2 div.sk-item {position: relative;z-index: 1;}#sk-container-id-2 div.sk-parallel {display: flex;align-items: stretch;justify-content: center;background-color: white;position: relative;}#sk-container-id-2 div.sk-item::before, #sk-container-id-2 div.sk-parallel-item::before {content: \"\";position: absolute;border-left: 1px solid gray;box-sizing: border-box;top: 0;bottom: 0;left: 50%;z-index: -1;}#sk-container-id-2 div.sk-parallel-item {display: flex;flex-direction: column;z-index: 1;position: relative;background-color: white;}#sk-container-id-2 div.sk-parallel-item:first-child::after {align-self: flex-end;width: 50%;}#sk-container-id-2 div.sk-parallel-item:last-child::after {align-self: flex-start;width: 50%;}#sk-container-id-2 div.sk-parallel-item:only-child::after {width: 0;}#sk-container-id-2 div.sk-dashed-wrapped {border: 1px dashed gray;margin: 0 0.4em 0.5em 0.4em;box-sizing: border-box;padding-bottom: 0.4em;background-color: white;}#sk-container-id-2 div.sk-label label {font-family: monospace;font-weight: bold;display: inline-block;line-height: 1.2em;}#sk-container-id-2 div.sk-label-container {text-align: center;}#sk-container-id-2 div.sk-container {/* jupyter's `normalize.less` sets `[hidden] { display: none; }` but bootstrap.min.css set `[hidden] { display: none !important; }` so we also need the `!important` here to be able to override the default hidden behavior on the sphinx rendered scikit-learn.org. See: https://github.com/scikit-learn/scikit-learn/issues/21755 */display: inline-block !important;position: relative;}#sk-container-id-2 div.sk-text-repr-fallback {display: none;}</style><div id=\"sk-container-id-2\" class=\"sk-top-container\"><div class=\"sk-text-repr-fallback\"><pre>LogisticRegression()</pre><b>In a Jupyter environment, please rerun this cell to show the HTML representation or trust the notebook. <br />On GitHub, the HTML representation is unable to render, please try loading this page with nbviewer.org.</b></div><div class=\"sk-container\" hidden><div class=\"sk-item\"><div class=\"sk-estimator sk-toggleable\"><input class=\"sk-toggleable__control sk-hidden--visually\" id=\"sk-estimator-id-2\" type=\"checkbox\" checked><label for=\"sk-estimator-id-2\" class=\"sk-toggleable__label sk-toggleable__label-arrow\">LogisticRegression</label><div class=\"sk-toggleable__content\"><pre>LogisticRegression()</pre></div></div></div></div></div>"
      ],
      "text/plain": [
       "LogisticRegression()"
      ]
     },
     "execution_count": 45,
     "metadata": {},
     "output_type": "execute_result"
    }
   ],
   "source": [
    "Model = LogisticRegression()\n",
    "Model.fit(x_train,y_train)"
   ]
  },
  {
   "cell_type": "code",
   "execution_count": 46,
   "id": "d0522a25",
   "metadata": {},
   "outputs": [
    {
     "name": "stdout",
     "output_type": "stream",
     "text": [
      "Accuracy score : 0.6020177883977167\n",
      "Confusion Matrix : \n",
      "[[1759  655   75]\n",
      " [ 642 1037  832]\n",
      " [ 299  495 1739]]\n",
      "Classification report : \n",
      "              precision    recall  f1-score   support\n",
      "\n",
      "           0       0.65      0.71      0.68      2489\n",
      "           1       0.47      0.41      0.44      2511\n",
      "           2       0.66      0.69      0.67      2533\n",
      "\n",
      "    accuracy                           0.60      7533\n",
      "   macro avg       0.59      0.60      0.60      7533\n",
      "weighted avg       0.59      0.60      0.60      7533\n",
      "\n"
     ]
    },
    {
     "data": {
      "text/plain": [
       "'Success'"
      ]
     },
     "execution_count": 46,
     "metadata": {},
     "output_type": "execute_result"
    }
   ],
   "source": [
    "model_eval(Model,x_train,y_train)"
   ]
  },
  {
   "cell_type": "code",
   "execution_count": 47,
   "id": "139239b4",
   "metadata": {},
   "outputs": [
    {
     "name": "stdout",
     "output_type": "stream",
     "text": [
      "Accuracy score : 0.5985663082437276\n",
      "Confusion Matrix : \n",
      "[[616 219  24]\n",
      " [239 324 273]\n",
      " [101 152 563]]\n",
      "Classification report : \n",
      "              precision    recall  f1-score   support\n",
      "\n",
      "           0       0.64      0.72      0.68       859\n",
      "           1       0.47      0.39      0.42       836\n",
      "           2       0.65      0.69      0.67       816\n",
      "\n",
      "    accuracy                           0.60      2511\n",
      "   macro avg       0.59      0.60      0.59      2511\n",
      "weighted avg       0.59      0.60      0.59      2511\n",
      "\n"
     ]
    },
    {
     "data": {
      "text/plain": [
       "'Success'"
      ]
     },
     "execution_count": 47,
     "metadata": {},
     "output_type": "execute_result"
    }
   ],
   "source": [
    "model_eval(Model,x_test,y_test)"
   ]
  },
  {
   "cell_type": "code",
   "execution_count": null,
   "id": "26baf6db",
   "metadata": {},
   "outputs": [],
   "source": []
  },
  {
   "cell_type": "code",
   "execution_count": null,
   "id": "35819e68",
   "metadata": {},
   "outputs": [],
   "source": []
  },
  {
   "cell_type": "code",
   "execution_count": null,
   "id": "adf4eb0b",
   "metadata": {},
   "outputs": [],
   "source": []
  },
  {
   "cell_type": "code",
   "execution_count": null,
   "id": "67a5bf42",
   "metadata": {},
   "outputs": [],
   "source": []
  }
 ],
 "metadata": {
  "kernelspec": {
   "display_name": "Python 3 (ipykernel)",
   "language": "python",
   "name": "python3"
  },
  "language_info": {
   "codemirror_mode": {
    "name": "ipython",
    "version": 3
   },
   "file_extension": ".py",
   "mimetype": "text/x-python",
   "name": "python",
   "nbconvert_exporter": "python",
   "pygments_lexer": "ipython3",
   "version": "3.10.9"
  }
 },
 "nbformat": 4,
 "nbformat_minor": 5
}
