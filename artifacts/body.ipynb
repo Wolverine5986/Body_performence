{
 "cells": [
  {
   "cell_type": "code",
   "execution_count": 144,
   "id": "37b1df80-bbb3-4255-bcb1-2f62c96ec53b",
   "metadata": {},
   "outputs": [],
   "source": [
    "import pandas as pd\n",
    "import numpy as np\n",
    "\n",
    "from sklearn.model_selection import train_test_split ,GridSearchCV,RandomizedSearchCV\n",
    "from sklearn.preprocessing import MinMaxScaler,StandardScaler\n",
    "from sklearn.ensemble import RandomForestClassifier\n",
    "from sklearn.metrics import classification_report,confusion_matrix,ConfusionMatrixDisplay"
   ]
  },
  {
   "cell_type": "code",
   "execution_count": 3,
   "id": "598f9844-385c-427b-b742-ab86dc721d1e",
   "metadata": {},
   "outputs": [
    {
     "data": {
      "text/html": [
       "<div>\n",
       "<style scoped>\n",
       "    .dataframe tbody tr th:only-of-type {\n",
       "        vertical-align: middle;\n",
       "    }\n",
       "\n",
       "    .dataframe tbody tr th {\n",
       "        vertical-align: top;\n",
       "    }\n",
       "\n",
       "    .dataframe thead th {\n",
       "        text-align: right;\n",
       "    }\n",
       "</style>\n",
       "<table border=\"1\" class=\"dataframe\">\n",
       "  <thead>\n",
       "    <tr style=\"text-align: right;\">\n",
       "      <th></th>\n",
       "      <th>age</th>\n",
       "      <th>gender</th>\n",
       "      <th>height_cm</th>\n",
       "      <th>weight_kg</th>\n",
       "      <th>body fat_%</th>\n",
       "      <th>diastolic</th>\n",
       "      <th>systolic</th>\n",
       "      <th>gripForce</th>\n",
       "      <th>sit and bend forward_cm</th>\n",
       "      <th>sit-ups counts</th>\n",
       "      <th>broad jump_cm</th>\n",
       "      <th>class</th>\n",
       "    </tr>\n",
       "  </thead>\n",
       "  <tbody>\n",
       "    <tr>\n",
       "      <th>0</th>\n",
       "      <td>27.0</td>\n",
       "      <td>M</td>\n",
       "      <td>172.3</td>\n",
       "      <td>75.24</td>\n",
       "      <td>21.3</td>\n",
       "      <td>80.0</td>\n",
       "      <td>130.0</td>\n",
       "      <td>54.9</td>\n",
       "      <td>18.4</td>\n",
       "      <td>60.0</td>\n",
       "      <td>217.0</td>\n",
       "      <td>C</td>\n",
       "    </tr>\n",
       "    <tr>\n",
       "      <th>1</th>\n",
       "      <td>25.0</td>\n",
       "      <td>M</td>\n",
       "      <td>165.0</td>\n",
       "      <td>55.80</td>\n",
       "      <td>15.7</td>\n",
       "      <td>77.0</td>\n",
       "      <td>126.0</td>\n",
       "      <td>36.4</td>\n",
       "      <td>16.3</td>\n",
       "      <td>53.0</td>\n",
       "      <td>229.0</td>\n",
       "      <td>A</td>\n",
       "    </tr>\n",
       "    <tr>\n",
       "      <th>2</th>\n",
       "      <td>31.0</td>\n",
       "      <td>M</td>\n",
       "      <td>179.6</td>\n",
       "      <td>78.00</td>\n",
       "      <td>20.1</td>\n",
       "      <td>92.0</td>\n",
       "      <td>152.0</td>\n",
       "      <td>44.8</td>\n",
       "      <td>12.0</td>\n",
       "      <td>49.0</td>\n",
       "      <td>181.0</td>\n",
       "      <td>C</td>\n",
       "    </tr>\n",
       "    <tr>\n",
       "      <th>3</th>\n",
       "      <td>32.0</td>\n",
       "      <td>M</td>\n",
       "      <td>174.5</td>\n",
       "      <td>71.10</td>\n",
       "      <td>18.4</td>\n",
       "      <td>76.0</td>\n",
       "      <td>147.0</td>\n",
       "      <td>41.4</td>\n",
       "      <td>15.2</td>\n",
       "      <td>53.0</td>\n",
       "      <td>219.0</td>\n",
       "      <td>B</td>\n",
       "    </tr>\n",
       "    <tr>\n",
       "      <th>4</th>\n",
       "      <td>28.0</td>\n",
       "      <td>M</td>\n",
       "      <td>173.8</td>\n",
       "      <td>67.70</td>\n",
       "      <td>17.1</td>\n",
       "      <td>70.0</td>\n",
       "      <td>127.0</td>\n",
       "      <td>43.5</td>\n",
       "      <td>27.1</td>\n",
       "      <td>45.0</td>\n",
       "      <td>217.0</td>\n",
       "      <td>B</td>\n",
       "    </tr>\n",
       "    <tr>\n",
       "      <th>...</th>\n",
       "      <td>...</td>\n",
       "      <td>...</td>\n",
       "      <td>...</td>\n",
       "      <td>...</td>\n",
       "      <td>...</td>\n",
       "      <td>...</td>\n",
       "      <td>...</td>\n",
       "      <td>...</td>\n",
       "      <td>...</td>\n",
       "      <td>...</td>\n",
       "      <td>...</td>\n",
       "      <td>...</td>\n",
       "    </tr>\n",
       "    <tr>\n",
       "      <th>13388</th>\n",
       "      <td>25.0</td>\n",
       "      <td>M</td>\n",
       "      <td>172.1</td>\n",
       "      <td>71.80</td>\n",
       "      <td>16.2</td>\n",
       "      <td>74.0</td>\n",
       "      <td>141.0</td>\n",
       "      <td>35.8</td>\n",
       "      <td>17.4</td>\n",
       "      <td>47.0</td>\n",
       "      <td>198.0</td>\n",
       "      <td>C</td>\n",
       "    </tr>\n",
       "    <tr>\n",
       "      <th>13389</th>\n",
       "      <td>21.0</td>\n",
       "      <td>M</td>\n",
       "      <td>179.7</td>\n",
       "      <td>63.90</td>\n",
       "      <td>12.1</td>\n",
       "      <td>74.0</td>\n",
       "      <td>128.0</td>\n",
       "      <td>33.0</td>\n",
       "      <td>1.1</td>\n",
       "      <td>48.0</td>\n",
       "      <td>167.0</td>\n",
       "      <td>D</td>\n",
       "    </tr>\n",
       "    <tr>\n",
       "      <th>13390</th>\n",
       "      <td>39.0</td>\n",
       "      <td>M</td>\n",
       "      <td>177.2</td>\n",
       "      <td>80.50</td>\n",
       "      <td>20.1</td>\n",
       "      <td>78.0</td>\n",
       "      <td>132.0</td>\n",
       "      <td>63.5</td>\n",
       "      <td>16.4</td>\n",
       "      <td>45.0</td>\n",
       "      <td>229.0</td>\n",
       "      <td>A</td>\n",
       "    </tr>\n",
       "    <tr>\n",
       "      <th>13391</th>\n",
       "      <td>64.0</td>\n",
       "      <td>F</td>\n",
       "      <td>146.1</td>\n",
       "      <td>57.70</td>\n",
       "      <td>40.4</td>\n",
       "      <td>68.0</td>\n",
       "      <td>121.0</td>\n",
       "      <td>19.3</td>\n",
       "      <td>9.2</td>\n",
       "      <td>0.0</td>\n",
       "      <td>75.0</td>\n",
       "      <td>D</td>\n",
       "    </tr>\n",
       "    <tr>\n",
       "      <th>13392</th>\n",
       "      <td>34.0</td>\n",
       "      <td>M</td>\n",
       "      <td>164.0</td>\n",
       "      <td>66.10</td>\n",
       "      <td>19.5</td>\n",
       "      <td>82.0</td>\n",
       "      <td>150.0</td>\n",
       "      <td>35.9</td>\n",
       "      <td>7.1</td>\n",
       "      <td>51.0</td>\n",
       "      <td>180.0</td>\n",
       "      <td>C</td>\n",
       "    </tr>\n",
       "  </tbody>\n",
       "</table>\n",
       "<p>13393 rows × 12 columns</p>\n",
       "</div>"
      ],
      "text/plain": [
       "        age gender  height_cm  weight_kg  body fat_%  diastolic  systolic  \\\n",
       "0      27.0      M      172.3      75.24        21.3       80.0     130.0   \n",
       "1      25.0      M      165.0      55.80        15.7       77.0     126.0   \n",
       "2      31.0      M      179.6      78.00        20.1       92.0     152.0   \n",
       "3      32.0      M      174.5      71.10        18.4       76.0     147.0   \n",
       "4      28.0      M      173.8      67.70        17.1       70.0     127.0   \n",
       "...     ...    ...        ...        ...         ...        ...       ...   \n",
       "13388  25.0      M      172.1      71.80        16.2       74.0     141.0   \n",
       "13389  21.0      M      179.7      63.90        12.1       74.0     128.0   \n",
       "13390  39.0      M      177.2      80.50        20.1       78.0     132.0   \n",
       "13391  64.0      F      146.1      57.70        40.4       68.0     121.0   \n",
       "13392  34.0      M      164.0      66.10        19.5       82.0     150.0   \n",
       "\n",
       "       gripForce  sit and bend forward_cm  sit-ups counts  broad jump_cm class  \n",
       "0           54.9                     18.4            60.0          217.0     C  \n",
       "1           36.4                     16.3            53.0          229.0     A  \n",
       "2           44.8                     12.0            49.0          181.0     C  \n",
       "3           41.4                     15.2            53.0          219.0     B  \n",
       "4           43.5                     27.1            45.0          217.0     B  \n",
       "...          ...                      ...             ...            ...   ...  \n",
       "13388       35.8                     17.4            47.0          198.0     C  \n",
       "13389       33.0                      1.1            48.0          167.0     D  \n",
       "13390       63.5                     16.4            45.0          229.0     A  \n",
       "13391       19.3                      9.2             0.0           75.0     D  \n",
       "13392       35.9                      7.1            51.0          180.0     C  \n",
       "\n",
       "[13393 rows x 12 columns]"
      ]
     },
     "execution_count": 3,
     "metadata": {},
     "output_type": "execute_result"
    }
   ],
   "source": [
    "df = pd.read_csv('bodyPerformance.csv')\n",
    "df"
   ]
  },
  {
   "cell_type": "code",
   "execution_count": 4,
   "id": "1c3a400f-f686-42f9-9189-2188898acb49",
   "metadata": {},
   "outputs": [
    {
     "data": {
      "text/plain": [
       "Index(['age', 'gender', 'height_cm', 'weight_kg', 'body fat_%', 'diastolic',\n",
       "       'systolic', 'gripForce', 'sit and bend forward_cm', 'sit-ups counts',\n",
       "       'broad jump_cm', 'class'],\n",
       "      dtype='object')"
      ]
     },
     "execution_count": 4,
     "metadata": {},
     "output_type": "execute_result"
    }
   ],
   "source": [
    "df.columns"
   ]
  },
  {
   "cell_type": "code",
   "execution_count": 6,
   "id": "8c9e79a6-6872-41fc-a1a7-260e7f9caa17",
   "metadata": {},
   "outputs": [
    {
     "data": {
      "text/plain": [
       "C    3349\n",
       "D    3349\n",
       "A    3348\n",
       "B    3347\n",
       "Name: class, dtype: int64"
      ]
     },
     "execution_count": 6,
     "metadata": {},
     "output_type": "execute_result"
    }
   ],
   "source": [
    "df['class'].value_counts()"
   ]
  },
  {
   "cell_type": "code",
   "execution_count": 7,
   "id": "a860d5a3-a603-4cea-83d7-37e714a18759",
   "metadata": {},
   "outputs": [
    {
     "name": "stdout",
     "output_type": "stream",
     "text": [
      "<class 'pandas.core.frame.DataFrame'>\n",
      "RangeIndex: 13393 entries, 0 to 13392\n",
      "Data columns (total 12 columns):\n",
      " #   Column                   Non-Null Count  Dtype  \n",
      "---  ------                   --------------  -----  \n",
      " 0   age                      13393 non-null  float64\n",
      " 1   gender                   13393 non-null  object \n",
      " 2   height_cm                13393 non-null  float64\n",
      " 3   weight_kg                13393 non-null  float64\n",
      " 4   body fat_%               13393 non-null  float64\n",
      " 5   diastolic                13393 non-null  float64\n",
      " 6   systolic                 13393 non-null  float64\n",
      " 7   gripForce                13393 non-null  float64\n",
      " 8   sit and bend forward_cm  13393 non-null  float64\n",
      " 9   sit-ups counts           13393 non-null  float64\n",
      " 10  broad jump_cm            13393 non-null  float64\n",
      " 11  class                    13393 non-null  object \n",
      "dtypes: float64(10), object(2)\n",
      "memory usage: 1.2+ MB\n"
     ]
    }
   ],
   "source": [
    "df.info()"
   ]
  },
  {
   "cell_type": "markdown",
   "id": "d5f7a453-30cc-4d14-aaae-c45318d4eec6",
   "metadata": {},
   "source": [
    "# Handling Outliers"
   ]
  },
  {
   "cell_type": "code",
   "execution_count": 9,
   "id": "1af223fa-7b11-4dc9-b1f4-e14eb88ca4b6",
   "metadata": {},
   "outputs": [],
   "source": [
    "from scipy.stats import zscore"
   ]
  },
  {
   "cell_type": "code",
   "execution_count": 21,
   "id": "970b8fba-d733-4517-a920-e4a80abd209c",
   "metadata": {},
   "outputs": [],
   "source": [
    "def get_outlier_iqr(arr):\n",
    "    outlier= []\n",
    "    q1 = np.quantile(arr,0.25) #>> 25th percentile \n",
    "    q2 = np.quantile(arr,0.5) #>> 50th Median \n",
    "    q3 = np.quantile(arr,0.75) #>> 75th percentile \n",
    "    print(f\"{q1=} {q2=} {q3=}\")\n",
    "    IQR = q3 -q1\n",
    "    print(f\"IQR = {IQR}\")\n",
    "    lower_tail = q1 - 1.50 * IQR\n",
    "    upper_tail = q3 + 1.50 * IQR\n",
    "    print(f\"{upper_tail=}\")\n",
    "    print(f\"{lower_tail=}\")\n",
    "    \n",
    "    for i in arr: \n",
    "        if i > upper_tail or i < lower_tail: \n",
    "            outlier.append(i)\n",
    "    return outlier, upper_tail,lower_tail"
   ]
  },
  {
   "cell_type": "code",
   "execution_count": 25,
   "id": "43f8c3a8-9ffd-4700-9ee3-eabb44065493",
   "metadata": {},
   "outputs": [
    {
     "name": "stdout",
     "output_type": "stream",
     "text": [
      "q1=25.0 q2=32.0 q3=48.0\n",
      "IQR = 23.0\n",
      "upper_tail=82.5\n",
      "lower_tail=-9.5\n"
     ]
    },
    {
     "data": {
      "text/plain": [
       "[]"
      ]
     },
     "execution_count": 25,
     "metadata": {},
     "output_type": "execute_result"
    }
   ],
   "source": [
    "outlier , upper, lower = get_outlier_iqr(df['age'])\n",
    "outlier"
   ]
  },
  {
   "cell_type": "code",
   "execution_count": 26,
   "id": "c5109360-84cd-4a02-a930-973c999b6a4f",
   "metadata": {},
   "outputs": [
    {
     "name": "stdout",
     "output_type": "stream",
     "text": [
      "q1=162.4 q2=169.2 q3=174.8\n",
      "IQR = 12.400000000000006\n",
      "upper_tail=193.40000000000003\n",
      "lower_tail=143.8\n"
     ]
    },
    {
     "data": {
      "text/plain": [
       "[139.8, 143.4, 141.0, 193.8, 143.6, 139.9, 139.5, 125.0, 140.5, 143.7]"
      ]
     },
     "execution_count": 26,
     "metadata": {},
     "output_type": "execute_result"
    }
   ],
   "source": [
    "#height_cm\n",
    "outlier , upper, lower = get_outlier_iqr(df['height_cm'])\n",
    "outlier"
   ]
  },
  {
   "cell_type": "code",
   "execution_count": 43,
   "id": "28520017-74a5-41ec-a403-7747779689a1",
   "metadata": {},
   "outputs": [
    {
     "data": {
      "text/plain": [
       "10"
      ]
     },
     "execution_count": 43,
     "metadata": {},
     "output_type": "execute_result"
    }
   ],
   "source": [
    "len(outlier)"
   ]
  },
  {
   "cell_type": "code",
   "execution_count": 18,
   "id": "b57c112a-aedf-491c-a933-f2419c6accb3",
   "metadata": {},
   "outputs": [],
   "source": [
    "df.drop_duplicates(inplace=True)"
   ]
  },
  {
   "cell_type": "code",
   "execution_count": 20,
   "id": "2422bebd-41b8-4f91-b74f-7f9af1934f6d",
   "metadata": {},
   "outputs": [
    {
     "data": {
      "text/plain": [
       "(13392, 12)"
      ]
     },
     "execution_count": 20,
     "metadata": {},
     "output_type": "execute_result"
    }
   ],
   "source": [
    "df.shape"
   ]
  },
  {
   "cell_type": "code",
   "execution_count": 27,
   "id": "f458ff09-e827-4ec8-9a4a-cffc528e824e",
   "metadata": {},
   "outputs": [],
   "source": [
    "import seaborn as sns"
   ]
  },
  {
   "cell_type": "code",
   "execution_count": 32,
   "id": "6bb652e3-8c96-4874-a3b8-fc7a253632a7",
   "metadata": {},
   "outputs": [
    {
     "data": {
      "text/plain": [
       "<AxesSubplot: xlabel='height_cm', ylabel='Density'>"
      ]
     },
     "execution_count": 32,
     "metadata": {},
     "output_type": "execute_result"
    },
    {
     "data": {
      "image/png": "[encoded data removed]",
      "text/plain": [
       "<Figure size 640x480 with 1 Axes>"
      ]
     },
     "metadata": {},
     "output_type": "display_data"
    }
   ],
   "source": [
    "sns.kdeplot(df['height_cm'])"
   ]
  },
  {
   "cell_type": "code",
   "execution_count": 55,
   "id": "6131cd6b-8af0-4574-9908-06843ae49f39",
   "metadata": {},
   "outputs": [],
   "source": [
    "df.loc[(df[\"height_cm\"]>upper) | (df[\"height_cm\"]<lower),\"height_cm\"]  = df[\"height_cm\"].mean() "
   ]
  },
  {
   "cell_type": "code",
   "execution_count": 56,
   "id": "b3ba6e4d-6c3a-4a9d-b8a5-2c295a0529e8",
   "metadata": {},
   "outputs": [
    {
     "data": {
      "text/plain": [
       "<AxesSubplot: xlabel='height_cm'>"
      ]
     },
     "execution_count": 56,
     "metadata": {},
     "output_type": "execute_result"
    },
    {
     "data": {
      "image/png": "[encoded data removed]",
      "text/plain": [
       "<Figure size 640x480 with 1 Axes>"
      ]
     },
     "metadata": {},
     "output_type": "display_data"
    }
   ],
   "source": [
    "sns.boxplot(x=df[\"height_cm\"])"
   ]
  },
  {
   "cell_type": "code",
   "execution_count": 57,
   "id": "14818305-a428-47d7-82eb-376894112cf2",
   "metadata": {},
   "outputs": [
    {
     "data": {
      "text/plain": [
       "Index(['age', 'gender', 'height_cm', 'weight_kg', 'body fat_%', 'diastolic',\n",
       "       'systolic', 'gripForce', 'sit and bend forward_cm', 'sit-ups counts',\n",
       "       'broad jump_cm', 'class'],\n",
       "      dtype='object')"
      ]
     },
     "execution_count": 57,
     "metadata": {},
     "output_type": "execute_result"
    }
   ],
   "source": [
    "df.columns"
   ]
  },
  {
   "cell_type": "code",
   "execution_count": 58,
   "id": "a551844a-432e-421d-81f6-16c9d1630af8",
   "metadata": {},
   "outputs": [
    {
     "name": "stdout",
     "output_type": "stream",
     "text": [
      "q1=58.2 q2=67.4 q3=75.3\n",
      "IQR = 17.099999999999994\n",
      "upper_tail=100.94999999999999\n",
      "lower_tail=32.55000000000001\n"
     ]
    }
   ],
   "source": [
    "outlier, upper, lower = get_outlier_iqr(df['weight_kg'])"
   ]
  },
  {
   "cell_type": "code",
   "execution_count": 61,
   "id": "e6bedf00-aef1-4f45-a7ab-264de99bec3c",
   "metadata": {},
   "outputs": [
    {
     "data": {
      "text/plain": [
       "<AxesSubplot: xlabel='weight_kg'>"
      ]
     },
     "execution_count": 61,
     "metadata": {},
     "output_type": "execute_result"
    },
    {
     "data": {
      "image/png": "[encoded data removed]",
      "text/plain": [
       "<Figure size 640x480 with 1 Axes>"
      ]
     },
     "metadata": {},
     "output_type": "display_data"
    }
   ],
   "source": [
    "sns.boxplot(x=df['weight_kg'])"
   ]
  },
  {
   "cell_type": "code",
   "execution_count": 62,
   "id": "9d1bd27e-9441-4aef-b409-7ac738a77023",
   "metadata": {},
   "outputs": [
    {
     "data": {
      "text/plain": [
       "<AxesSubplot: xlabel='weight_kg', ylabel='Density'>"
      ]
     },
     "execution_count": 62,
     "metadata": {},
     "output_type": "execute_result"
    },
    {
     "data": {
      "image/png": "[encoded data removed]",
      "text/plain": [
       "<Figure size 640x480 with 1 Axes>"
      ]
     },
     "metadata": {},
     "output_type": "display_data"
    }
   ],
   "source": [
    "sns.kdeplot(df['weight_kg'])"
   ]
  },
  {
   "cell_type": "code",
   "execution_count": 65,
   "id": "3d44b043-10e9-4e27-8f9e-fa96890d6f7d",
   "metadata": {},
   "outputs": [],
   "source": [
    "df.loc[(df['weight_kg']<lower) | (df['weight_kg']>upper), 'weight_kg'] = df['weight_kg'].median()"
   ]
  },
  {
   "cell_type": "code",
   "execution_count": 66,
   "id": "32c96fc5-fec7-483a-8d20-0d771c83ce7b",
   "metadata": {},
   "outputs": [
    {
     "data": {
      "text/plain": [
       "<AxesSubplot: xlabel='weight_kg'>"
      ]
     },
     "execution_count": 66,
     "metadata": {},
     "output_type": "execute_result"
    },
    {
     "data": {
      "image/png": "[encoded data removed]",
      "text/plain": [
       "<Figure size 640x480 with 1 Axes>"
      ]
     },
     "metadata": {},
     "output_type": "display_data"
    }
   ],
   "source": [
    "sns.boxplot(x=df['weight_kg'])"
   ]
  },
  {
   "cell_type": "code",
   "execution_count": 67,
   "id": "ae064161-7bd4-4b94-a089-e05a05624310",
   "metadata": {},
   "outputs": [
    {
     "name": "stdout",
     "output_type": "stream",
     "text": [
      "q1=18.0 q2=22.8 q3=28.0\n",
      "IQR = 10.0\n",
      "upper_tail=43.0\n",
      "lower_tail=3.0\n"
     ]
    }
   ],
   "source": [
    "outlier, upper, lower = get_outlier_iqr(df['body fat_%'])"
   ]
  },
  {
   "cell_type": "code",
   "execution_count": 70,
   "id": "0bb8e6fe-7076-4548-8992-eb89162bb1fa",
   "metadata": {},
   "outputs": [
    {
     "data": {
      "text/plain": [
       "<AxesSubplot: xlabel='body fat_%', ylabel='Density'>"
      ]
     },
     "execution_count": 70,
     "metadata": {},
     "output_type": "execute_result"
    },
    {
     "data": {
      "image/png": "[encoded data removed]",
      "text/plain": [
       "<Figure size 640x480 with 1 Axes>"
      ]
     },
     "metadata": {},
     "output_type": "display_data"
    }
   ],
   "source": [
    "sns.kdeplot(df['body fat_%'])"
   ]
  },
  {
   "cell_type": "code",
   "execution_count": 71,
   "id": "90689f2f-e931-490c-90c9-4420aabb74d0",
   "metadata": {},
   "outputs": [
    {
     "data": {
      "text/plain": [
       "<AxesSubplot: xlabel='body fat_%'>"
      ]
     },
     "execution_count": 71,
     "metadata": {},
     "output_type": "execute_result"
    },
    {
     "data": {
      "image/png": "[encoded data removed]",
      "text/plain": [
       "<Figure size 640x480 with 1 Axes>"
      ]
     },
     "metadata": {},
     "output_type": "display_data"
    }
   ],
   "source": [
    "sns.boxplot(x=df['body fat_%'])"
   ]
  },
  {
   "cell_type": "code",
   "execution_count": 73,
   "id": "9b601f8d-0bdd-47b5-80d9-49599456ea54",
   "metadata": {},
   "outputs": [],
   "source": [
    "df.loc[(df['body fat_%']<lower)|(df['body fat_%']>upper),'body fat_%'] = df['body fat_%'].mean()"
   ]
  },
  {
   "cell_type": "code",
   "execution_count": 74,
   "id": "8e9a9f88-4152-4c30-a6be-a31f7428e32f",
   "metadata": {},
   "outputs": [
    {
     "data": {
      "text/plain": [
       "<AxesSubplot: xlabel='body fat_%'>"
      ]
     },
     "execution_count": 74,
     "metadata": {},
     "output_type": "execute_result"
    },
    {
     "data": {
      "image/png": "[encoded data removed]",
      "text/plain": [
       "<Figure size 640x480 with 1 Axes>"
      ]
     },
     "metadata": {},
     "output_type": "display_data"
    }
   ],
   "source": [
    "sns.boxplot(x=df['body fat_%'])"
   ]
  },
  {
   "cell_type": "code",
   "execution_count": 76,
   "id": "ccbc477d-1dce-4c8b-b70f-a6a6db85b2c6",
   "metadata": {},
   "outputs": [
    {
     "name": "stdout",
     "output_type": "stream",
     "text": [
      "q1=71.0 q2=79.0 q3=86.0\n",
      "IQR = 15.0\n",
      "upper_tail=108.5\n",
      "lower_tail=48.5\n"
     ]
    }
   ],
   "source": [
    "outlier,upper,lower = get_outlier_iqr(df['diastolic'])"
   ]
  },
  {
   "cell_type": "code",
   "execution_count": 78,
   "id": "4f2c485d-f332-4ebb-8081-b7f45ea26262",
   "metadata": {},
   "outputs": [
    {
     "data": {
      "text/plain": [
       "<AxesSubplot: xlabel='diastolic', ylabel='Density'>"
      ]
     },
     "execution_count": 78,
     "metadata": {},
     "output_type": "execute_result"
    },
    {
     "data": {
      "image/png": "[encoded data removed]",
      "text/plain": [
       "<Figure size 640x480 with 1 Axes>"
      ]
     },
     "metadata": {},
     "output_type": "display_data"
    }
   ],
   "source": [
    "sns.kdeplot(df['diastolic'])"
   ]
  },
  {
   "cell_type": "code",
   "execution_count": 83,
   "id": "d8b7174e-b45f-4c0c-838d-75fcaf1d7e43",
   "metadata": {},
   "outputs": [],
   "source": [
    "df.loc[(df['diastolic']<lower)|(df['diastolic']>upper),'diastolic'] = df['diastolic'].mean()"
   ]
  },
  {
   "cell_type": "code",
   "execution_count": 84,
   "id": "8aad0ab2-3346-40d3-97fe-a7ad6293fda5",
   "metadata": {},
   "outputs": [
    {
     "data": {
      "text/plain": [
       "<AxesSubplot: xlabel='diastolic'>"
      ]
     },
     "execution_count": 84,
     "metadata": {},
     "output_type": "execute_result"
    },
    {
     "data": {
      "image/png": "[encoded data removed]",
      "text/plain": [
       "<Figure size 640x480 with 1 Axes>"
      ]
     },
     "metadata": {},
     "output_type": "display_data"
    }
   ],
   "source": [
    "sns.boxplot(x=df['diastolic'])"
   ]
  },
  {
   "cell_type": "code",
   "execution_count": 85,
   "id": "89351760-bada-4561-b3ac-226a06f5c9ae",
   "metadata": {},
   "outputs": [
    {
     "data": {
      "text/plain": [
       "Index(['age', 'gender', 'height_cm', 'weight_kg', 'body fat_%', 'diastolic',\n",
       "       'systolic', 'gripForce', 'sit and bend forward_cm', 'sit-ups counts',\n",
       "       'broad jump_cm', 'class'],\n",
       "      dtype='object')"
      ]
     },
     "execution_count": 85,
     "metadata": {},
     "output_type": "execute_result"
    }
   ],
   "source": [
    "df.columns"
   ]
  },
  {
   "cell_type": "code",
   "execution_count": 88,
   "id": "7e5a0486-afac-4b56-90a3-999b7eda32d5",
   "metadata": {},
   "outputs": [
    {
     "name": "stdout",
     "output_type": "stream",
     "text": [
      "q1=120.0 q2=130.0 q3=141.0\n",
      "IQR = 21.0\n",
      "upper_tail=172.5\n",
      "lower_tail=88.5\n"
     ]
    }
   ],
   "source": [
    "outlier,upper,lower = get_outlier_iqr(df['systolic'])"
   ]
  },
  {
   "cell_type": "code",
   "execution_count": 94,
   "id": "a30d338f-fc41-4906-948e-9ad295a095a5",
   "metadata": {},
   "outputs": [
    {
     "data": {
      "text/plain": [
       "<AxesSubplot: xlabel='systolic', ylabel='Density'>"
      ]
     },
     "execution_count": 94,
     "metadata": {},
     "output_type": "execute_result"
    },
    {
     "data": {
      "image/png": "[encoded data removed]",
      "text/plain": [
       "<Figure size 640x480 with 1 Axes>"
      ]
     },
     "metadata": {},
     "output_type": "display_data"
    }
   ],
   "source": [
    "sns.kdeplot(df['systolic'])"
   ]
  },
  {
   "cell_type": "code",
   "execution_count": 95,
   "id": "9d56c815-afe2-454f-90f1-2c8d374f8f33",
   "metadata": {},
   "outputs": [],
   "source": [
    "df.loc[(df['systolic']<lower)|(df['systolic']>upper),'systolic'] = df['systolic'].median()"
   ]
  },
  {
   "cell_type": "code",
   "execution_count": 97,
   "id": "a283be64-a3a8-4656-8d26-92f429bbec83",
   "metadata": {},
   "outputs": [
    {
     "data": {
      "text/plain": [
       "<AxesSubplot: xlabel='systolic'>"
      ]
     },
     "execution_count": 97,
     "metadata": {},
     "output_type": "execute_result"
    },
    {
     "data": {
      "image/png": "[encoded data removed]",
      "text/plain": [
       "<Figure size 640x480 with 1 Axes>"
      ]
     },
     "metadata": {},
     "output_type": "display_data"
    }
   ],
   "source": [
    "sns.boxplot(x=df['systolic'])"
   ]
  },
  {
   "cell_type": "code",
   "execution_count": 101,
   "id": "7590defa-cb9f-4a1c-8897-6a3b3dcd4365",
   "metadata": {},
   "outputs": [
    {
     "name": "stdout",
     "output_type": "stream",
     "text": [
      "q1=27.5 q2=37.9 q3=45.2\n",
      "IQR = 17.700000000000003\n",
      "upper_tail=71.75\n",
      "lower_tail=0.9499999999999957\n"
     ]
    }
   ],
   "source": [
    "outlier ,upper ,lower = get_outlier_iqr(df['gripForce'])"
   ]
  },
  {
   "cell_type": "code",
   "execution_count": 105,
   "id": "829bb797-c8db-4e0b-8770-ffcd483c8b95",
   "metadata": {},
   "outputs": [],
   "source": [
    "df.loc[(df['gripForce']<lower)|(df['gripForce']>upper),'gripForce'] = np.nan"
   ]
  },
  {
   "cell_type": "code",
   "execution_count": 108,
   "id": "644570d8-d2b2-4c8e-9b0a-efad55434746",
   "metadata": {},
   "outputs": [
    {
     "data": {
      "text/plain": [
       "(13389, 12)"
      ]
     },
     "execution_count": 108,
     "metadata": {},
     "output_type": "execute_result"
    }
   ],
   "source": [
    "df.dropna(inplace=True)\n",
    "df.shape"
   ]
  },
  {
   "cell_type": "code",
   "execution_count": 110,
   "id": "b67833e6-cff5-4890-bf7a-8d239f39fc48",
   "metadata": {},
   "outputs": [
    {
     "data": {
      "text/plain": [
       "<AxesSubplot: xlabel='gripForce'>"
      ]
     },
     "execution_count": 110,
     "metadata": {},
     "output_type": "execute_result"
    },
    {
     "data": {
      "image/png": "[encoded data removed]",
      "text/plain": [
       "<Figure size 640x480 with 1 Axes>"
      ]
     },
     "metadata": {},
     "output_type": "display_data"
    }
   ],
   "source": [
    "sns.boxplot(x=df['gripForce'])"
   ]
  },
  {
   "cell_type": "code",
   "execution_count": 109,
   "id": "a0af6e10-3705-44f4-921f-d48a0df836d4",
   "metadata": {},
   "outputs": [
    {
     "data": {
      "text/plain": [
       "Index(['age', 'gender', 'height_cm', 'weight_kg', 'body fat_%', 'diastolic',\n",
       "       'systolic', 'gripForce', 'sit and bend forward_cm', 'sit-ups counts',\n",
       "       'broad jump_cm', 'class'],\n",
       "      dtype='object')"
      ]
     },
     "execution_count": 109,
     "metadata": {},
     "output_type": "execute_result"
    }
   ],
   "source": [
    "df.columns"
   ]
  },
  {
   "cell_type": "code",
   "execution_count": 112,
   "id": "43ae155e-8582-4319-81b2-8fabae542066",
   "metadata": {},
   "outputs": [
    {
     "name": "stdout",
     "output_type": "stream",
     "text": [
      "q1=10.9 q2=16.2 q3=20.7\n",
      "IQR = 9.799999999999999\n",
      "upper_tail=35.4\n",
      "lower_tail=-3.799999999999999\n"
     ]
    }
   ],
   "source": [
    "outlier, upper,lower = get_outlier_iqr(df['sit and bend forward_cm'])"
   ]
  },
  {
   "cell_type": "code",
   "execution_count": 116,
   "id": "f5370b86-7b49-4a97-bb6b-324dae156c40",
   "metadata": {},
   "outputs": [],
   "source": [
    "df.drop('sit and bend forward_cm',inplace =True,axis = 1)"
   ]
  },
  {
   "cell_type": "code",
   "execution_count": 118,
   "id": "60fa85e9-7bcb-43ec-ae58-5b1878ba9123",
   "metadata": {},
   "outputs": [
    {
     "data": {
      "text/plain": [
       "Index(['age', 'gender', 'height_cm', 'weight_kg', 'body fat_%', 'diastolic',\n",
       "       'systolic', 'gripForce', 'sit-ups counts', 'broad jump_cm', 'class'],\n",
       "      dtype='object')"
      ]
     },
     "execution_count": 118,
     "metadata": {},
     "output_type": "execute_result"
    }
   ],
   "source": [
    "df.columns"
   ]
  },
  {
   "cell_type": "code",
   "execution_count": 119,
   "id": "aea96ed5-5ce9-4fc8-ad0f-d00512fbd952",
   "metadata": {},
   "outputs": [
    {
     "data": {
      "text/plain": [
       "<AxesSubplot: xlabel='sit-ups counts'>"
      ]
     },
     "execution_count": 119,
     "metadata": {},
     "output_type": "execute_result"
    },
    {
     "data": {
      "image/png": "[encoded data removed]",
      "text/plain": [
       "<Figure size 640x480 with 1 Axes>"
      ]
     },
     "metadata": {},
     "output_type": "display_data"
    }
   ],
   "source": [
    "sns.boxplot(x= df['sit-ups counts'])"
   ]
  },
  {
   "cell_type": "code",
   "execution_count": 120,
   "id": "6ae8bdc0-d114-420d-a9d5-5f1ac5b7a002",
   "metadata": {},
   "outputs": [
    {
     "data": {
      "text/plain": [
       "<AxesSubplot: xlabel='broad jump_cm'>"
      ]
     },
     "execution_count": 120,
     "metadata": {},
     "output_type": "execute_result"
    },
    {
     "data": {
      "image/png": "[encoded data removed]",
      "text/plain": [
       "<Figure size 640x480 with 1 Axes>"
      ]
     },
     "metadata": {},
     "output_type": "display_data"
    }
   ],
   "source": [
    "sns.boxplot(x=df['broad jump_cm'])"
   ]
  },
  {
   "cell_type": "code",
   "execution_count": 121,
   "id": "80bdead0-a260-4706-a278-a1ce02132c56",
   "metadata": {},
   "outputs": [
    {
     "name": "stdout",
     "output_type": "stream",
     "text": [
      "q1=162.0 q2=193.0 q3=221.0\n",
      "IQR = 59.0\n",
      "upper_tail=309.5\n",
      "lower_tail=73.5\n"
     ]
    }
   ],
   "source": [
    "outlier,upper,lower = get_outlier_iqr(df['broad jump_cm'])"
   ]
  },
  {
   "cell_type": "code",
   "execution_count": 122,
   "id": "20358294-e1bb-4302-8e58-1aa59cb90590",
   "metadata": {},
   "outputs": [
    {
     "data": {
      "text/plain": [
       "57"
      ]
     },
     "execution_count": 122,
     "metadata": {},
     "output_type": "execute_result"
    }
   ],
   "source": [
    "len(outlier)"
   ]
  },
  {
   "cell_type": "code",
   "execution_count": 127,
   "id": "c729a47f-9eaf-4454-9796-35e98ef25eb8",
   "metadata": {},
   "outputs": [],
   "source": [
    "df.loc[(df['broad jump_cm']<lower)|(df['broad jump_cm']>upper),'broad jump_cm'] =df['broad jump_cm'].median()"
   ]
  },
  {
   "cell_type": "code",
   "execution_count": 128,
   "id": "b4fd2f5d-75bd-4614-9165-57e51e22631a",
   "metadata": {},
   "outputs": [
    {
     "data": {
      "text/plain": [
       "<AxesSubplot: xlabel='broad jump_cm'>"
      ]
     },
     "execution_count": 128,
     "metadata": {},
     "output_type": "execute_result"
    },
    {
     "data": {
      "image/png": "[encoded data removed]",
      "text/plain": [
       "<Figure size 640x480 with 1 Axes>"
      ]
     },
     "metadata": {},
     "output_type": "display_data"
    }
   ],
   "source": [
    "sns.boxplot(x=df['broad jump_cm'])"
   ]
  },
  {
   "cell_type": "markdown",
   "id": "e0bfcd7b-8704-4619-91b8-f5b3623dac2c",
   "metadata": {},
   "source": [
    "# Encoding"
   ]
  },
  {
   "cell_type": "code",
   "execution_count": 130,
   "id": "7e546194-e7ce-467a-ab99-074c1aac9185",
   "metadata": {},
   "outputs": [
    {
     "data": {
      "text/plain": [
       "Index(['age', 'gender', 'height_cm', 'weight_kg', 'body fat_%', 'diastolic',\n",
       "       'systolic', 'gripForce', 'sit-ups counts', 'broad jump_cm', 'class'],\n",
       "      dtype='object')"
      ]
     },
     "execution_count": 130,
     "metadata": {},
     "output_type": "execute_result"
    }
   ],
   "source": [
    "df.columns"
   ]
  },
  {
   "cell_type": "code",
   "execution_count": 132,
   "id": "85d32544-118b-4581-95bd-c7849cffd20e",
   "metadata": {},
   "outputs": [
    {
     "data": {
      "text/plain": [
       "M    8465\n",
       "F    4924\n",
       "Name: gender, dtype: int64"
      ]
     },
     "execution_count": 132,
     "metadata": {},
     "output_type": "execute_result"
    }
   ],
   "source": [
    "df.gender.value_counts()"
   ]
  },
  {
   "cell_type": "code",
   "execution_count": 133,
   "id": "eca0bcaa-c687-4d84-97b3-7c77a1a02743",
   "metadata": {},
   "outputs": [],
   "source": [
    "gender = {\"M\":1,'F':0}\n",
    "df.gender.replace(gender,inplace=True)"
   ]
  },
  {
   "cell_type": "code",
   "execution_count": 134,
   "id": "03876e9f-6517-4bf8-b15a-9850d062aa89",
   "metadata": {},
   "outputs": [
    {
     "data": {
      "text/plain": [
       "1    8465\n",
       "0    4924\n",
       "Name: gender, dtype: int64"
      ]
     },
     "execution_count": 134,
     "metadata": {},
     "output_type": "execute_result"
    }
   ],
   "source": [
    "df.gender.value_counts()"
   ]
  },
  {
   "cell_type": "code",
   "execution_count": 135,
   "id": "ec9481c8-1643-4cde-9e70-635105859d4d",
   "metadata": {},
   "outputs": [
    {
     "data": {
      "text/plain": [
       "Index(['age', 'gender', 'height_cm', 'weight_kg', 'body fat_%', 'diastolic',\n",
       "       'systolic', 'gripForce', 'sit-ups counts', 'broad jump_cm', 'class'],\n",
       "      dtype='object')"
      ]
     },
     "execution_count": 135,
     "metadata": {},
     "output_type": "execute_result"
    }
   ],
   "source": [
    "df.columns"
   ]
  },
  {
   "cell_type": "code",
   "execution_count": 136,
   "id": "6ac6fa5e-b8aa-4a17-8e45-622c6864ee37",
   "metadata": {},
   "outputs": [
    {
     "name": "stdout",
     "output_type": "stream",
     "text": [
      "<class 'pandas.core.frame.DataFrame'>\n",
      "Int64Index: 13389 entries, 0 to 13392\n",
      "Data columns (total 11 columns):\n",
      " #   Column          Non-Null Count  Dtype  \n",
      "---  ------          --------------  -----  \n",
      " 0   age             13389 non-null  float64\n",
      " 1   gender          13389 non-null  int64  \n",
      " 2   height_cm       13389 non-null  float64\n",
      " 3   weight_kg       13389 non-null  float64\n",
      " 4   body fat_%      13389 non-null  float64\n",
      " 5   diastolic       13389 non-null  float64\n",
      " 6   systolic        13389 non-null  float64\n",
      " 7   gripForce       13389 non-null  float64\n",
      " 8   sit-ups counts  13389 non-null  float64\n",
      " 9   broad jump_cm   13389 non-null  float64\n",
      " 10  class           13389 non-null  object \n",
      "dtypes: float64(9), int64(1), object(1)\n",
      "memory usage: 1.7+ MB\n"
     ]
    }
   ],
   "source": [
    "df.info()"
   ]
  },
  {
   "cell_type": "code",
   "execution_count": 139,
   "id": "30e2d3d0-c09c-4c34-aae7-8f99b5fd376f",
   "metadata": {},
   "outputs": [
    {
     "data": {
      "text/plain": [
       "C    3348\n",
       "D    3348\n",
       "A    3347\n",
       "B    3346\n",
       "Name: class, dtype: int64"
      ]
     },
     "execution_count": 139,
     "metadata": {},
     "output_type": "execute_result"
    }
   ],
   "source": [
    "df['class'].value_counts()"
   ]
  },
  {
   "cell_type": "code",
   "execution_count": 140,
   "id": "0252725b-a1a6-4858-99cc-6147685b60fd",
   "metadata": {},
   "outputs": [],
   "source": [
    "label = {'A':0,'B':1,'C':2,'D':3}\n",
    "df['class'].replace(label,inplace=True)"
   ]
  },
  {
   "cell_type": "code",
   "execution_count": 142,
   "id": "f132fef8-0000-47cf-b88a-fc9691ba42de",
   "metadata": {},
   "outputs": [
    {
     "data": {
      "text/plain": [
       "2    3348\n",
       "3    3348\n",
       "0    3347\n",
       "1    3346\n",
       "Name: class, dtype: int64"
      ]
     },
     "execution_count": 142,
     "metadata": {},
     "output_type": "execute_result"
    }
   ],
   "source": [
    "df['class'].value_counts()"
   ]
  },
  {
   "cell_type": "code",
   "execution_count": 143,
   "id": "779cea15-f1ff-44b5-ab53-eecc47b30afe",
   "metadata": {},
   "outputs": [
    {
     "data": {
      "text/html": [
       "<div>\n",
       "<style scoped>\n",
       "    .dataframe tbody tr th:only-of-type {\n",
       "        vertical-align: middle;\n",
       "    }\n",
       "\n",
       "    .dataframe tbody tr th {\n",
       "        vertical-align: top;\n",
       "    }\n",
       "\n",
       "    .dataframe thead th {\n",
       "        text-align: right;\n",
       "    }\n",
       "</style>\n",
       "<table border=\"1\" class=\"dataframe\">\n",
       "  <thead>\n",
       "    <tr style=\"text-align: right;\">\n",
       "      <th></th>\n",
       "      <th>age</th>\n",
       "      <th>gender</th>\n",
       "      <th>height_cm</th>\n",
       "      <th>weight_kg</th>\n",
       "      <th>body fat_%</th>\n",
       "      <th>diastolic</th>\n",
       "      <th>systolic</th>\n",
       "      <th>gripForce</th>\n",
       "      <th>sit-ups counts</th>\n",
       "      <th>broad jump_cm</th>\n",
       "      <th>class</th>\n",
       "    </tr>\n",
       "  </thead>\n",
       "  <tbody>\n",
       "    <tr>\n",
       "      <th>0</th>\n",
       "      <td>27.0</td>\n",
       "      <td>1</td>\n",
       "      <td>172.3</td>\n",
       "      <td>75.24</td>\n",
       "      <td>21.3</td>\n",
       "      <td>80.0</td>\n",
       "      <td>130.0</td>\n",
       "      <td>54.9</td>\n",
       "      <td>60.0</td>\n",
       "      <td>217.0</td>\n",
       "      <td>2</td>\n",
       "    </tr>\n",
       "    <tr>\n",
       "      <th>1</th>\n",
       "      <td>25.0</td>\n",
       "      <td>1</td>\n",
       "      <td>165.0</td>\n",
       "      <td>55.80</td>\n",
       "      <td>15.7</td>\n",
       "      <td>77.0</td>\n",
       "      <td>126.0</td>\n",
       "      <td>36.4</td>\n",
       "      <td>53.0</td>\n",
       "      <td>229.0</td>\n",
       "      <td>0</td>\n",
       "    </tr>\n",
       "    <tr>\n",
       "      <th>2</th>\n",
       "      <td>31.0</td>\n",
       "      <td>1</td>\n",
       "      <td>179.6</td>\n",
       "      <td>78.00</td>\n",
       "      <td>20.1</td>\n",
       "      <td>92.0</td>\n",
       "      <td>152.0</td>\n",
       "      <td>44.8</td>\n",
       "      <td>49.0</td>\n",
       "      <td>181.0</td>\n",
       "      <td>2</td>\n",
       "    </tr>\n",
       "    <tr>\n",
       "      <th>3</th>\n",
       "      <td>32.0</td>\n",
       "      <td>1</td>\n",
       "      <td>174.5</td>\n",
       "      <td>71.10</td>\n",
       "      <td>18.4</td>\n",
       "      <td>76.0</td>\n",
       "      <td>147.0</td>\n",
       "      <td>41.4</td>\n",
       "      <td>53.0</td>\n",
       "      <td>219.0</td>\n",
       "      <td>1</td>\n",
       "    </tr>\n",
       "    <tr>\n",
       "      <th>4</th>\n",
       "      <td>28.0</td>\n",
       "      <td>1</td>\n",
       "      <td>173.8</td>\n",
       "      <td>67.70</td>\n",
       "      <td>17.1</td>\n",
       "      <td>70.0</td>\n",
       "      <td>127.0</td>\n",
       "      <td>43.5</td>\n",
       "      <td>45.0</td>\n",
       "      <td>217.0</td>\n",
       "      <td>1</td>\n",
       "    </tr>\n",
       "    <tr>\n",
       "      <th>...</th>\n",
       "      <td>...</td>\n",
       "      <td>...</td>\n",
       "      <td>...</td>\n",
       "      <td>...</td>\n",
       "      <td>...</td>\n",
       "      <td>...</td>\n",
       "      <td>...</td>\n",
       "      <td>...</td>\n",
       "      <td>...</td>\n",
       "      <td>...</td>\n",
       "      <td>...</td>\n",
       "    </tr>\n",
       "    <tr>\n",
       "      <th>13388</th>\n",
       "      <td>25.0</td>\n",
       "      <td>1</td>\n",
       "      <td>172.1</td>\n",
       "      <td>71.80</td>\n",
       "      <td>16.2</td>\n",
       "      <td>74.0</td>\n",
       "      <td>141.0</td>\n",
       "      <td>35.8</td>\n",
       "      <td>47.0</td>\n",
       "      <td>198.0</td>\n",
       "      <td>2</td>\n",
       "    </tr>\n",
       "    <tr>\n",
       "      <th>13389</th>\n",
       "      <td>21.0</td>\n",
       "      <td>1</td>\n",
       "      <td>179.7</td>\n",
       "      <td>63.90</td>\n",
       "      <td>12.1</td>\n",
       "      <td>74.0</td>\n",
       "      <td>128.0</td>\n",
       "      <td>33.0</td>\n",
       "      <td>48.0</td>\n",
       "      <td>167.0</td>\n",
       "      <td>3</td>\n",
       "    </tr>\n",
       "    <tr>\n",
       "      <th>13390</th>\n",
       "      <td>39.0</td>\n",
       "      <td>1</td>\n",
       "      <td>177.2</td>\n",
       "      <td>80.50</td>\n",
       "      <td>20.1</td>\n",
       "      <td>78.0</td>\n",
       "      <td>132.0</td>\n",
       "      <td>63.5</td>\n",
       "      <td>45.0</td>\n",
       "      <td>229.0</td>\n",
       "      <td>0</td>\n",
       "    </tr>\n",
       "    <tr>\n",
       "      <th>13391</th>\n",
       "      <td>64.0</td>\n",
       "      <td>0</td>\n",
       "      <td>146.1</td>\n",
       "      <td>57.70</td>\n",
       "      <td>40.4</td>\n",
       "      <td>68.0</td>\n",
       "      <td>121.0</td>\n",
       "      <td>19.3</td>\n",
       "      <td>0.0</td>\n",
       "      <td>75.0</td>\n",
       "      <td>3</td>\n",
       "    </tr>\n",
       "    <tr>\n",
       "      <th>13392</th>\n",
       "      <td>34.0</td>\n",
       "      <td>1</td>\n",
       "      <td>164.0</td>\n",
       "      <td>66.10</td>\n",
       "      <td>19.5</td>\n",
       "      <td>82.0</td>\n",
       "      <td>150.0</td>\n",
       "      <td>35.9</td>\n",
       "      <td>51.0</td>\n",
       "      <td>180.0</td>\n",
       "      <td>2</td>\n",
       "    </tr>\n",
       "  </tbody>\n",
       "</table>\n",
       "<p>13389 rows × 11 columns</p>\n",
       "</div>"
      ],
      "text/plain": [
       "        age  gender  height_cm  weight_kg  body fat_%  diastolic  systolic  \\\n",
       "0      27.0       1      172.3      75.24        21.3       80.0     130.0   \n",
       "1      25.0       1      165.0      55.80        15.7       77.0     126.0   \n",
       "2      31.0       1      179.6      78.00        20.1       92.0     152.0   \n",
       "3      32.0       1      174.5      71.10        18.4       76.0     147.0   \n",
       "4      28.0       1      173.8      67.70        17.1       70.0     127.0   \n",
       "...     ...     ...        ...        ...         ...        ...       ...   \n",
       "13388  25.0       1      172.1      71.80        16.2       74.0     141.0   \n",
       "13389  21.0       1      179.7      63.90        12.1       74.0     128.0   \n",
       "13390  39.0       1      177.2      80.50        20.1       78.0     132.0   \n",
       "13391  64.0       0      146.1      57.70        40.4       68.0     121.0   \n",
       "13392  34.0       1      164.0      66.10        19.5       82.0     150.0   \n",
       "\n",
       "       gripForce  sit-ups counts  broad jump_cm  class  \n",
       "0           54.9            60.0          217.0      2  \n",
       "1           36.4            53.0          229.0      0  \n",
       "2           44.8            49.0          181.0      2  \n",
       "3           41.4            53.0          219.0      1  \n",
       "4           43.5            45.0          217.0      1  \n",
       "...          ...             ...            ...    ...  \n",
       "13388       35.8            47.0          198.0      2  \n",
       "13389       33.0            48.0          167.0      3  \n",
       "13390       63.5            45.0          229.0      0  \n",
       "13391       19.3             0.0           75.0      3  \n",
       "13392       35.9            51.0          180.0      2  \n",
       "\n",
       "[13389 rows x 11 columns]"
      ]
     },
     "execution_count": 143,
     "metadata": {},
     "output_type": "execute_result"
    }
   ],
   "source": [
    "df"
   ]
  },
  {
   "cell_type": "code",
   "execution_count": 146,
   "id": "0eda204b-330e-499c-aa19-919d172f52b2",
   "metadata": {},
   "outputs": [
    {
     "data": {
      "text/html": [
       "<div>\n",
       "<style scoped>\n",
       "    .dataframe tbody tr th:only-of-type {\n",
       "        vertical-align: middle;\n",
       "    }\n",
       "\n",
       "    .dataframe tbody tr th {\n",
       "        vertical-align: top;\n",
       "    }\n",
       "\n",
       "    .dataframe thead th {\n",
       "        text-align: right;\n",
       "    }\n",
       "</style>\n",
       "<table border=\"1\" class=\"dataframe\">\n",
       "  <thead>\n",
       "    <tr style=\"text-align: right;\">\n",
       "      <th></th>\n",
       "      <th>age</th>\n",
       "      <th>gender</th>\n",
       "      <th>height_cm</th>\n",
       "      <th>weight_kg</th>\n",
       "      <th>body fat_%</th>\n",
       "      <th>diastolic</th>\n",
       "      <th>systolic</th>\n",
       "      <th>gripForce</th>\n",
       "      <th>sit-ups counts</th>\n",
       "      <th>broad jump_cm</th>\n",
       "    </tr>\n",
       "  </thead>\n",
       "  <tbody>\n",
       "    <tr>\n",
       "      <th>0</th>\n",
       "      <td>27.0</td>\n",
       "      <td>1</td>\n",
       "      <td>172.3</td>\n",
       "      <td>75.24</td>\n",
       "      <td>21.3</td>\n",
       "      <td>80.0</td>\n",
       "      <td>130.0</td>\n",
       "      <td>54.9</td>\n",
       "      <td>60.0</td>\n",
       "      <td>217.0</td>\n",
       "    </tr>\n",
       "    <tr>\n",
       "      <th>1</th>\n",
       "      <td>25.0</td>\n",
       "      <td>1</td>\n",
       "      <td>165.0</td>\n",
       "      <td>55.80</td>\n",
       "      <td>15.7</td>\n",
       "      <td>77.0</td>\n",
       "      <td>126.0</td>\n",
       "      <td>36.4</td>\n",
       "      <td>53.0</td>\n",
       "      <td>229.0</td>\n",
       "    </tr>\n",
       "    <tr>\n",
       "      <th>2</th>\n",
       "      <td>31.0</td>\n",
       "      <td>1</td>\n",
       "      <td>179.6</td>\n",
       "      <td>78.00</td>\n",
       "      <td>20.1</td>\n",
       "      <td>92.0</td>\n",
       "      <td>152.0</td>\n",
       "      <td>44.8</td>\n",
       "      <td>49.0</td>\n",
       "      <td>181.0</td>\n",
       "    </tr>\n",
       "    <tr>\n",
       "      <th>3</th>\n",
       "      <td>32.0</td>\n",
       "      <td>1</td>\n",
       "      <td>174.5</td>\n",
       "      <td>71.10</td>\n",
       "      <td>18.4</td>\n",
       "      <td>76.0</td>\n",
       "      <td>147.0</td>\n",
       "      <td>41.4</td>\n",
       "      <td>53.0</td>\n",
       "      <td>219.0</td>\n",
       "    </tr>\n",
       "    <tr>\n",
       "      <th>4</th>\n",
       "      <td>28.0</td>\n",
       "      <td>1</td>\n",
       "      <td>173.8</td>\n",
       "      <td>67.70</td>\n",
       "      <td>17.1</td>\n",
       "      <td>70.0</td>\n",
       "      <td>127.0</td>\n",
       "      <td>43.5</td>\n",
       "      <td>45.0</td>\n",
       "      <td>217.0</td>\n",
       "    </tr>\n",
       "  </tbody>\n",
       "</table>\n",
       "</div>"
      ],
      "text/plain": [
       "    age  gender  height_cm  weight_kg  body fat_%  diastolic  systolic  \\\n",
       "0  27.0       1      172.3      75.24        21.3       80.0     130.0   \n",
       "1  25.0       1      165.0      55.80        15.7       77.0     126.0   \n",
       "2  31.0       1      179.6      78.00        20.1       92.0     152.0   \n",
       "3  32.0       1      174.5      71.10        18.4       76.0     147.0   \n",
       "4  28.0       1      173.8      67.70        17.1       70.0     127.0   \n",
       "\n",
       "   gripForce  sit-ups counts  broad jump_cm  \n",
       "0       54.9            60.0          217.0  \n",
       "1       36.4            53.0          229.0  \n",
       "2       44.8            49.0          181.0  \n",
       "3       41.4            53.0          219.0  \n",
       "4       43.5            45.0          217.0  "
      ]
     },
     "execution_count": 146,
     "metadata": {},
     "output_type": "execute_result"
    }
   ],
   "source": [
    "x = df.drop('class',axis=1)\n",
    "x.head()"
   ]
  },
  {
   "cell_type": "code",
   "execution_count": 148,
   "id": "5c0b2985-f1a7-4deb-aae6-efdcf5238a3f",
   "metadata": {},
   "outputs": [],
   "source": [
    "y = df['class']\n"
   ]
  },
  {
   "cell_type": "markdown",
   "id": "e59192ea-edec-4be4-b7ed-bf56b6cb1189",
   "metadata": {},
   "source": [
    "# Scalling"
   ]
  },
  {
   "cell_type": "code",
   "execution_count": 150,
   "id": "2b9c13c3-5546-4df3-9a45-1bcb2c1023af",
   "metadata": {},
   "outputs": [
    {
     "data": {
      "text/html": [
       "<div>\n",
       "<style scoped>\n",
       "    .dataframe tbody tr th:only-of-type {\n",
       "        vertical-align: middle;\n",
       "    }\n",
       "\n",
       "    .dataframe tbody tr th {\n",
       "        vertical-align: top;\n",
       "    }\n",
       "\n",
       "    .dataframe thead th {\n",
       "        text-align: right;\n",
       "    }\n",
       "</style>\n",
       "<table border=\"1\" class=\"dataframe\">\n",
       "  <thead>\n",
       "    <tr style=\"text-align: right;\">\n",
       "      <th></th>\n",
       "      <th>age</th>\n",
       "      <th>gender</th>\n",
       "      <th>height_cm</th>\n",
       "      <th>weight_kg</th>\n",
       "      <th>body fat_%</th>\n",
       "      <th>diastolic</th>\n",
       "      <th>systolic</th>\n",
       "      <th>gripForce</th>\n",
       "      <th>sit-ups counts</th>\n",
       "      <th>broad jump_cm</th>\n",
       "    </tr>\n",
       "  </thead>\n",
       "  <tbody>\n",
       "    <tr>\n",
       "      <th>0</th>\n",
       "      <td>-0.717537</td>\n",
       "      <td>0.762686</td>\n",
       "      <td>0.443644</td>\n",
       "      <td>0.698223</td>\n",
       "      <td>-0.256986</td>\n",
       "      <td>0.109777</td>\n",
       "      <td>-0.014748</td>\n",
       "      <td>1.689434</td>\n",
       "      <td>1.417049</td>\n",
       "      <td>0.677608</td>\n",
       "    </tr>\n",
       "    <tr>\n",
       "      <th>1</th>\n",
       "      <td>-0.864317</td>\n",
       "      <td>0.762686</td>\n",
       "      <td>-0.426547</td>\n",
       "      <td>-0.992163</td>\n",
       "      <td>-1.053564</td>\n",
       "      <td>-0.177458</td>\n",
       "      <td>-0.291893</td>\n",
       "      <td>-0.053985</td>\n",
       "      <td>0.926756</td>\n",
       "      <td>0.987213</td>\n",
       "    </tr>\n",
       "    <tr>\n",
       "      <th>2</th>\n",
       "      <td>-0.423977</td>\n",
       "      <td>0.762686</td>\n",
       "      <td>1.313835</td>\n",
       "      <td>0.938216</td>\n",
       "      <td>-0.427681</td>\n",
       "      <td>1.258714</td>\n",
       "      <td>1.509546</td>\n",
       "      <td>0.737622</td>\n",
       "      <td>0.646588</td>\n",
       "      <td>-0.251208</td>\n",
       "    </tr>\n",
       "    <tr>\n",
       "      <th>3</th>\n",
       "      <td>-0.350588</td>\n",
       "      <td>0.762686</td>\n",
       "      <td>0.705893</td>\n",
       "      <td>0.338233</td>\n",
       "      <td>-0.669499</td>\n",
       "      <td>-0.273202</td>\n",
       "      <td>1.163116</td>\n",
       "      <td>0.417209</td>\n",
       "      <td>0.926756</td>\n",
       "      <td>0.729209</td>\n",
       "    </tr>\n",
       "    <tr>\n",
       "      <th>4</th>\n",
       "      <td>-0.644147</td>\n",
       "      <td>0.762686</td>\n",
       "      <td>0.622450</td>\n",
       "      <td>0.042590</td>\n",
       "      <td>-0.854419</td>\n",
       "      <td>-0.847671</td>\n",
       "      <td>-0.222607</td>\n",
       "      <td>0.615111</td>\n",
       "      <td>0.366421</td>\n",
       "      <td>0.677608</td>\n",
       "    </tr>\n",
       "  </tbody>\n",
       "</table>\n",
       "</div>"
      ],
      "text/plain": [
       "        age    gender  height_cm  weight_kg  body fat_%  diastolic  systolic  \\\n",
       "0 -0.717537  0.762686   0.443644   0.698223   -0.256986   0.109777 -0.014748   \n",
       "1 -0.864317  0.762686  -0.426547  -0.992163   -1.053564  -0.177458 -0.291893   \n",
       "2 -0.423977  0.762686   1.313835   0.938216   -0.427681   1.258714  1.509546   \n",
       "3 -0.350588  0.762686   0.705893   0.338233   -0.669499  -0.273202  1.163116   \n",
       "4 -0.644147  0.762686   0.622450   0.042590   -0.854419  -0.847671 -0.222607   \n",
       "\n",
       "   gripForce  sit-ups counts  broad jump_cm  \n",
       "0   1.689434        1.417049       0.677608  \n",
       "1  -0.053985        0.926756       0.987213  \n",
       "2   0.737622        0.646588      -0.251208  \n",
       "3   0.417209        0.926756       0.729209  \n",
       "4   0.615111        0.366421       0.677608  "
      ]
     },
     "execution_count": 150,
     "metadata": {},
     "output_type": "execute_result"
    }
   ],
   "source": [
    "std = StandardScaler()\n",
    "arr = std.fit_transform(x)\n",
    "new_x = pd.DataFrame(arr,columns=x.columns)\n",
    "new_x.head()"
   ]
  },
  {
   "cell_type": "code",
   "execution_count": 151,
   "id": "393357cb-136b-4932-b54a-b591ca197bb7",
   "metadata": {},
   "outputs": [
    {
     "data": {
      "text/plain": [
       "((9372, 10), (4017, 10), (9372,), (4017,))"
      ]
     },
     "execution_count": 151,
     "metadata": {},
     "output_type": "execute_result"
    }
   ],
   "source": [
    "x_train,x_test,y_train,y_test = train_test_split(new_x,y,test_size=0.3,random_state=17,stratify=y)\n",
    "x_train.shape,x_test.shape,y_train.shape,y_test.shape"
   ]
  },
  {
   "cell_type": "code",
   "execution_count": null,
   "id": "a2431dda-3065-43ef-8a53-0678e634346c",
   "metadata": {},
   "outputs": [],
   "source": []
  },
  {
   "cell_type": "code",
   "execution_count": null,
   "id": "9cb81d53-23aa-4f52-8ff7-9d865218db60",
   "metadata": {},
   "outputs": [],
   "source": []
  },
  {
   "cell_type": "code",
   "execution_count": null,
   "id": "31edbf38-d0e8-4519-afc3-2394fdbe1ae2",
   "metadata": {},
   "outputs": [],
   "source": []
  },
  {
   "cell_type": "code",
   "execution_count": null,
   "id": "5f6827b0-3d77-47f8-b340-62b4252f7930",
   "metadata": {},
   "outputs": [],
   "source": []
  },
  {
   "cell_type": "code",
   "execution_count": null,
   "id": "721d2d39-75ad-4463-a435-2174c4c21bcb",
   "metadata": {},
   "outputs": [],
   "source": []
  },
  {
   "cell_type": "code",
   "execution_count": null,
   "id": "2f98c575-acbc-43e7-aca3-4eba898c14e1",
   "metadata": {},
   "outputs": [],
   "source": []
  },
  {
   "cell_type": "code",
   "execution_count": null,
   "id": "734d204c-1d28-40c2-b56d-1d5fbd94ada7",
   "metadata": {},
   "outputs": [],
   "source": []
  },
  {
   "cell_type": "markdown",
   "id": "7344fb7b-09ce-42fe-ad16-6adb3c6f0c10",
   "metadata": {},
   "source": [
    "# Feature selection"
   ]
  },
  {
   "cell_type": "code",
   "execution_count": null,
   "id": "7625de55-0f68-4d25-8fe6-f5343998bc8a",
   "metadata": {},
   "outputs": [],
   "source": []
  },
  {
   "cell_type": "markdown",
   "id": "bdd5b50f-14b5-429f-ad3a-bf2e91ea1a27",
   "metadata": {},
   "source": [
    "# Model Training"
   ]
  },
  {
   "cell_type": "code",
   "execution_count": null,
   "id": "85a9a037-89f3-46c0-bf70-22fb25fa2ebb",
   "metadata": {},
   "outputs": [],
   "source": []
  }
 ],
 "metadata": {
  "kernelspec": {
   "display_name": "Python 3 (ipykernel)",
   "language": "python",
   "name": "python3"
  },
  "language_info": {
   "codemirror_mode": {
    "name": "ipython",
    "version": 3
   },
   "file_extension": ".py",
   "mimetype": "text/x-python",
   "name": "python",
   "nbconvert_exporter": "python",
   "pygments_lexer": "ipython3",
   "version": "3.10.9"
  }
 },
 "nbformat": 4,
 "nbformat_minor": 5
}
